{
 "cells": [
  {
   "cell_type": "markdown",
   "metadata": {},
   "source": [
    "# Project - Forest Fire - (Fire Data Extraction, EDA, Join With Other Tables)"
   ]
  },
  {
   "cell_type": "code",
   "execution_count": 24,
   "metadata": {},
   "outputs": [],
   "source": [
    "import pandas as pd\n",
    "import numpy as np\n",
    "import sqlite3\n",
    "import matplotlib.pyplot as plt\n",
    "from numpy import arange\n",
    "import seaborn as sns"
   ]
  },
  {
   "cell_type": "markdown",
   "metadata": {},
   "source": [
    "## Read Data"
   ]
  },
  {
   "cell_type": "markdown",
   "metadata": {},
   "source": [
    "Fire database is too large to be uploaded to Git, it can be downloaded from the following link:\\\n",
    "Fire Data source: https://www.fs.usda.gov/rds/archive/catalog/RDS-2013-0009.4"
   ]
  },
  {
   "cell_type": "code",
   "execution_count": 25,
   "metadata": {},
   "outputs": [],
   "source": [
    "conn = sqlite3.connect(\"Data/FPA_FOD_20170508.sqlite\")"
   ]
  },
  {
   "cell_type": "code",
   "execution_count": 26,
   "metadata": {},
   "outputs": [
    {
     "name": "stdout",
     "output_type": "stream",
     "text": [
      "[('spatial_ref_sys',), ('spatialite_history',), ('sqlite_sequence',), ('geometry_columns',), ('spatial_ref_sys_aux',), ('views_geometry_columns',), ('virts_geometry_columns',), ('geometry_columns_statistics',), ('views_geometry_columns_statistics',), ('virts_geometry_columns_statistics',), ('geometry_columns_field_infos',), ('views_geometry_columns_field_infos',), ('virts_geometry_columns_field_infos',), ('geometry_columns_time',), ('geometry_columns_auth',), ('views_geometry_columns_auth',), ('virts_geometry_columns_auth',), ('sql_statements_log',), ('SpatialIndex',), ('ElementaryGeometries',), ('KNN',), ('Fires',), ('idx_Fires_Shape',), ('idx_Fires_Shape_node',), ('idx_Fires_Shape_rowid',), ('idx_Fires_Shape_parent',), ('NWCG_UnitIDActive_20170109',)]\n"
     ]
    }
   ],
   "source": [
    "cursor = conn.cursor()\n",
    "cursor. execute(\"SELECT name FROM sqlite_master WHERE type='table';\")\n",
    "print(cursor. fetchall())"
   ]
  },
  {
   "cell_type": "markdown",
   "metadata": {},
   "source": [
    "Query to get the data from 2011 to the most recent possible."
   ]
  },
  {
   "cell_type": "code",
   "execution_count": 27,
   "metadata": {
    "scrolled": true
   },
   "outputs": [
    {
     "data": {
      "text/html": [
       "<div>\n",
       "<style scoped>\n",
       "    .dataframe tbody tr th:only-of-type {\n",
       "        vertical-align: middle;\n",
       "    }\n",
       "\n",
       "    .dataframe tbody tr th {\n",
       "        vertical-align: top;\n",
       "    }\n",
       "\n",
       "    .dataframe thead th {\n",
       "        text-align: right;\n",
       "    }\n",
       "</style>\n",
       "<table border=\"1\" class=\"dataframe\">\n",
       "  <thead>\n",
       "    <tr style=\"text-align: right;\">\n",
       "      <th></th>\n",
       "      <th>OBJECTID</th>\n",
       "      <th>FOD_ID</th>\n",
       "      <th>FPA_ID</th>\n",
       "      <th>SOURCE_SYSTEM_TYPE</th>\n",
       "      <th>SOURCE_SYSTEM</th>\n",
       "      <th>NWCG_REPORTING_AGENCY</th>\n",
       "      <th>NWCG_REPORTING_UNIT_ID</th>\n",
       "      <th>NWCG_REPORTING_UNIT_NAME</th>\n",
       "      <th>SOURCE_REPORTING_UNIT</th>\n",
       "      <th>SOURCE_REPORTING_UNIT_NAME</th>\n",
       "      <th>...</th>\n",
       "      <th>FIRE_SIZE_CLASS</th>\n",
       "      <th>LATITUDE</th>\n",
       "      <th>LONGITUDE</th>\n",
       "      <th>OWNER_CODE</th>\n",
       "      <th>OWNER_DESCR</th>\n",
       "      <th>STATE</th>\n",
       "      <th>COUNTY</th>\n",
       "      <th>FIPS_CODE</th>\n",
       "      <th>FIPS_NAME</th>\n",
       "      <th>Shape</th>\n",
       "    </tr>\n",
       "  </thead>\n",
       "  <tbody>\n",
       "    <tr>\n",
       "      <th>0</th>\n",
       "      <td>1453965</td>\n",
       "      <td>20020059</td>\n",
       "      <td>FS-1496314</td>\n",
       "      <td>FED</td>\n",
       "      <td>FS-FIRESTAT</td>\n",
       "      <td>FS</td>\n",
       "      <td>USAKCGF</td>\n",
       "      <td>Chugach National Forest</td>\n",
       "      <td>1004</td>\n",
       "      <td>Chugach National Forest</td>\n",
       "      <td>...</td>\n",
       "      <td>A</td>\n",
       "      <td>60.246389</td>\n",
       "      <td>-149.349444</td>\n",
       "      <td>13.0</td>\n",
       "      <td>STATE OR PRIVATE</td>\n",
       "      <td>AK</td>\n",
       "      <td>None</td>\n",
       "      <td>None</td>\n",
       "      <td>None</td>\n",
       "      <td>b'\\x00\\x01\\xad\\x10\\x00\\x0042\\x1b\\xa6.\\xabb\\xc0...</td>\n",
       "    </tr>\n",
       "    <tr>\n",
       "      <th>1</th>\n",
       "      <td>1453966</td>\n",
       "      <td>20020060</td>\n",
       "      <td>FS-1496318</td>\n",
       "      <td>FED</td>\n",
       "      <td>FS-FIRESTAT</td>\n",
       "      <td>FS</td>\n",
       "      <td>USAKCGF</td>\n",
       "      <td>Chugach National Forest</td>\n",
       "      <td>1004</td>\n",
       "      <td>Chugach National Forest</td>\n",
       "      <td>...</td>\n",
       "      <td>A</td>\n",
       "      <td>60.475833</td>\n",
       "      <td>-149.752500</td>\n",
       "      <td>13.0</td>\n",
       "      <td>STATE OR PRIVATE</td>\n",
       "      <td>AK</td>\n",
       "      <td>None</td>\n",
       "      <td>None</td>\n",
       "      <td>None</td>\n",
       "      <td>b'\\x00\\x01\\xad\\x10\\x00\\x00\\xadG\\xe1z\\x14\\xb8b\\...</td>\n",
       "    </tr>\n",
       "    <tr>\n",
       "      <th>2</th>\n",
       "      <td>1453967</td>\n",
       "      <td>20020061</td>\n",
       "      <td>FS-1496319</td>\n",
       "      <td>FED</td>\n",
       "      <td>FS-FIRESTAT</td>\n",
       "      <td>FS</td>\n",
       "      <td>USAKCGF</td>\n",
       "      <td>Chugach National Forest</td>\n",
       "      <td>1004</td>\n",
       "      <td>Chugach National Forest</td>\n",
       "      <td>...</td>\n",
       "      <td>A</td>\n",
       "      <td>60.514444</td>\n",
       "      <td>-149.467500</td>\n",
       "      <td>13.0</td>\n",
       "      <td>STATE OR PRIVATE</td>\n",
       "      <td>AK</td>\n",
       "      <td>None</td>\n",
       "      <td>None</td>\n",
       "      <td>None</td>\n",
       "      <td>b'\\x00\\x01\\xad\\x10\\x00\\x00(\\\\\\x8f\\xc2\\xf5\\xaeb...</td>\n",
       "    </tr>\n",
       "    <tr>\n",
       "      <th>3</th>\n",
       "      <td>1453968</td>\n",
       "      <td>20020062</td>\n",
       "      <td>FS-1496321</td>\n",
       "      <td>FED</td>\n",
       "      <td>FS-FIRESTAT</td>\n",
       "      <td>FS</td>\n",
       "      <td>USAKCGF</td>\n",
       "      <td>Chugach National Forest</td>\n",
       "      <td>1004</td>\n",
       "      <td>Chugach National Forest</td>\n",
       "      <td>...</td>\n",
       "      <td>A</td>\n",
       "      <td>60.399722</td>\n",
       "      <td>-149.360833</td>\n",
       "      <td>13.0</td>\n",
       "      <td>STATE OR PRIVATE</td>\n",
       "      <td>AK</td>\n",
       "      <td>None</td>\n",
       "      <td>None</td>\n",
       "      <td>None</td>\n",
       "      <td>b'\\x00\\x01\\xad\\x10\\x00\\x00\\x03\\xf5V\\xf2\\x8b\\xa...</td>\n",
       "    </tr>\n",
       "    <tr>\n",
       "      <th>4</th>\n",
       "      <td>1453969</td>\n",
       "      <td>20020063</td>\n",
       "      <td>FS-1496322</td>\n",
       "      <td>FED</td>\n",
       "      <td>FS-FIRESTAT</td>\n",
       "      <td>FS</td>\n",
       "      <td>USAKCGF</td>\n",
       "      <td>Chugach National Forest</td>\n",
       "      <td>1004</td>\n",
       "      <td>Chugach National Forest</td>\n",
       "      <td>...</td>\n",
       "      <td>A</td>\n",
       "      <td>60.467500</td>\n",
       "      <td>-149.973056</td>\n",
       "      <td>5.0</td>\n",
       "      <td>USFS</td>\n",
       "      <td>AK</td>\n",
       "      <td>None</td>\n",
       "      <td>None</td>\n",
       "      <td>None</td>\n",
       "      <td>b'\\x00\\x01\\xad\\x10\\x00\\x00\\x82\\xeciE#\\xbfb\\xc0...</td>\n",
       "    </tr>\n",
       "    <tr>\n",
       "      <th>...</th>\n",
       "      <td>...</td>\n",
       "      <td>...</td>\n",
       "      <td>...</td>\n",
       "      <td>...</td>\n",
       "      <td>...</td>\n",
       "      <td>...</td>\n",
       "      <td>...</td>\n",
       "      <td>...</td>\n",
       "      <td>...</td>\n",
       "      <td>...</td>\n",
       "      <td>...</td>\n",
       "      <td>...</td>\n",
       "      <td>...</td>\n",
       "      <td>...</td>\n",
       "      <td>...</td>\n",
       "      <td>...</td>\n",
       "      <td>...</td>\n",
       "      <td>...</td>\n",
       "      <td>...</td>\n",
       "      <td>...</td>\n",
       "      <td>...</td>\n",
       "    </tr>\n",
       "    <tr>\n",
       "      <th>370340</th>\n",
       "      <td>1880461</td>\n",
       "      <td>300348363</td>\n",
       "      <td>2015CAIRS29019636</td>\n",
       "      <td>NONFED</td>\n",
       "      <td>ST-CACDF</td>\n",
       "      <td>ST/C&amp;L</td>\n",
       "      <td>USCASHU</td>\n",
       "      <td>Shasta-Trinity Unit</td>\n",
       "      <td>CASHU</td>\n",
       "      <td>Shasta-Trinity Unit</td>\n",
       "      <td>...</td>\n",
       "      <td>A</td>\n",
       "      <td>40.481637</td>\n",
       "      <td>-122.389375</td>\n",
       "      <td>13.0</td>\n",
       "      <td>STATE OR PRIVATE</td>\n",
       "      <td>CA</td>\n",
       "      <td>None</td>\n",
       "      <td>None</td>\n",
       "      <td>None</td>\n",
       "      <td>b'\\x00\\x01\\xad\\x10\\x00\\x00P\\xb8\\x1e\\x85\\xeb\\x9...</td>\n",
       "    </tr>\n",
       "    <tr>\n",
       "      <th>370341</th>\n",
       "      <td>1880462</td>\n",
       "      <td>300348373</td>\n",
       "      <td>2015CAIRS29217935</td>\n",
       "      <td>NONFED</td>\n",
       "      <td>ST-CACDF</td>\n",
       "      <td>ST/C&amp;L</td>\n",
       "      <td>USCATCU</td>\n",
       "      <td>Tuolumne-Calaveras Unit</td>\n",
       "      <td>CATCU</td>\n",
       "      <td>Tuolumne-Calaveras Unit</td>\n",
       "      <td>...</td>\n",
       "      <td>A</td>\n",
       "      <td>37.617619</td>\n",
       "      <td>-120.938570</td>\n",
       "      <td>12.0</td>\n",
       "      <td>MUNICIPAL/LOCAL</td>\n",
       "      <td>CA</td>\n",
       "      <td>None</td>\n",
       "      <td>None</td>\n",
       "      <td>None</td>\n",
       "      <td>b'\\x00\\x01\\xad\\x10\\x00\\x00\\x00\\x80\\xbe\\x88\\x11...</td>\n",
       "    </tr>\n",
       "    <tr>\n",
       "      <th>370342</th>\n",
       "      <td>1880463</td>\n",
       "      <td>300348375</td>\n",
       "      <td>2015CAIRS28364460</td>\n",
       "      <td>NONFED</td>\n",
       "      <td>ST-CACDF</td>\n",
       "      <td>ST/C&amp;L</td>\n",
       "      <td>USCATCU</td>\n",
       "      <td>Tuolumne-Calaveras Unit</td>\n",
       "      <td>CATCU</td>\n",
       "      <td>Tuolumne-Calaveras Unit</td>\n",
       "      <td>...</td>\n",
       "      <td>A</td>\n",
       "      <td>37.617619</td>\n",
       "      <td>-120.938570</td>\n",
       "      <td>12.0</td>\n",
       "      <td>MUNICIPAL/LOCAL</td>\n",
       "      <td>CA</td>\n",
       "      <td>None</td>\n",
       "      <td>None</td>\n",
       "      <td>None</td>\n",
       "      <td>b'\\x00\\x01\\xad\\x10\\x00\\x00\\x00\\x80\\xbe\\x88\\x11...</td>\n",
       "    </tr>\n",
       "    <tr>\n",
       "      <th>370343</th>\n",
       "      <td>1880464</td>\n",
       "      <td>300348377</td>\n",
       "      <td>2015CAIRS29218079</td>\n",
       "      <td>NONFED</td>\n",
       "      <td>ST-CACDF</td>\n",
       "      <td>ST/C&amp;L</td>\n",
       "      <td>USCATCU</td>\n",
       "      <td>Tuolumne-Calaveras Unit</td>\n",
       "      <td>CATCU</td>\n",
       "      <td>Tuolumne-Calaveras Unit</td>\n",
       "      <td>...</td>\n",
       "      <td>B</td>\n",
       "      <td>37.672235</td>\n",
       "      <td>-120.898356</td>\n",
       "      <td>12.0</td>\n",
       "      <td>MUNICIPAL/LOCAL</td>\n",
       "      <td>CA</td>\n",
       "      <td>None</td>\n",
       "      <td>None</td>\n",
       "      <td>None</td>\n",
       "      <td>b'\\x00\\x01\\xad\\x10\\x00\\x00x\\xba_\\xaa~9^\\xc0\\xb...</td>\n",
       "    </tr>\n",
       "    <tr>\n",
       "      <th>370344</th>\n",
       "      <td>1880465</td>\n",
       "      <td>300348399</td>\n",
       "      <td>2015CAIRS26733926</td>\n",
       "      <td>NONFED</td>\n",
       "      <td>ST-CACDF</td>\n",
       "      <td>ST/C&amp;L</td>\n",
       "      <td>USCABDU</td>\n",
       "      <td>San Bernardino Unit</td>\n",
       "      <td>CABDU</td>\n",
       "      <td>CDF - San Bernardino Unit</td>\n",
       "      <td>...</td>\n",
       "      <td>A</td>\n",
       "      <td>34.263217</td>\n",
       "      <td>-116.830950</td>\n",
       "      <td>13.0</td>\n",
       "      <td>STATE OR PRIVATE</td>\n",
       "      <td>CA</td>\n",
       "      <td>None</td>\n",
       "      <td>None</td>\n",
       "      <td>None</td>\n",
       "      <td>b'\\x00\\x01\\xad\\x10\\x00\\x00\\x1c\\xa7\\xe8H.5]\\xc0...</td>\n",
       "    </tr>\n",
       "  </tbody>\n",
       "</table>\n",
       "<p>370345 rows × 39 columns</p>\n",
       "</div>"
      ],
      "text/plain": [
       "        OBJECTID     FOD_ID             FPA_ID SOURCE_SYSTEM_TYPE  \\\n",
       "0        1453965   20020059         FS-1496314                FED   \n",
       "1        1453966   20020060         FS-1496318                FED   \n",
       "2        1453967   20020061         FS-1496319                FED   \n",
       "3        1453968   20020062         FS-1496321                FED   \n",
       "4        1453969   20020063         FS-1496322                FED   \n",
       "...          ...        ...                ...                ...   \n",
       "370340   1880461  300348363  2015CAIRS29019636             NONFED   \n",
       "370341   1880462  300348373  2015CAIRS29217935             NONFED   \n",
       "370342   1880463  300348375  2015CAIRS28364460             NONFED   \n",
       "370343   1880464  300348377  2015CAIRS29218079             NONFED   \n",
       "370344   1880465  300348399  2015CAIRS26733926             NONFED   \n",
       "\n",
       "       SOURCE_SYSTEM NWCG_REPORTING_AGENCY NWCG_REPORTING_UNIT_ID  \\\n",
       "0        FS-FIRESTAT                    FS                USAKCGF   \n",
       "1        FS-FIRESTAT                    FS                USAKCGF   \n",
       "2        FS-FIRESTAT                    FS                USAKCGF   \n",
       "3        FS-FIRESTAT                    FS                USAKCGF   \n",
       "4        FS-FIRESTAT                    FS                USAKCGF   \n",
       "...              ...                   ...                    ...   \n",
       "370340      ST-CACDF                ST/C&L                USCASHU   \n",
       "370341      ST-CACDF                ST/C&L                USCATCU   \n",
       "370342      ST-CACDF                ST/C&L                USCATCU   \n",
       "370343      ST-CACDF                ST/C&L                USCATCU   \n",
       "370344      ST-CACDF                ST/C&L                USCABDU   \n",
       "\n",
       "       NWCG_REPORTING_UNIT_NAME SOURCE_REPORTING_UNIT  \\\n",
       "0       Chugach National Forest                  1004   \n",
       "1       Chugach National Forest                  1004   \n",
       "2       Chugach National Forest                  1004   \n",
       "3       Chugach National Forest                  1004   \n",
       "4       Chugach National Forest                  1004   \n",
       "...                         ...                   ...   \n",
       "370340      Shasta-Trinity Unit                 CASHU   \n",
       "370341  Tuolumne-Calaveras Unit                 CATCU   \n",
       "370342  Tuolumne-Calaveras Unit                 CATCU   \n",
       "370343  Tuolumne-Calaveras Unit                 CATCU   \n",
       "370344      San Bernardino Unit                 CABDU   \n",
       "\n",
       "       SOURCE_REPORTING_UNIT_NAME  ... FIRE_SIZE_CLASS   LATITUDE   LONGITUDE  \\\n",
       "0         Chugach National Forest  ...               A  60.246389 -149.349444   \n",
       "1         Chugach National Forest  ...               A  60.475833 -149.752500   \n",
       "2         Chugach National Forest  ...               A  60.514444 -149.467500   \n",
       "3         Chugach National Forest  ...               A  60.399722 -149.360833   \n",
       "4         Chugach National Forest  ...               A  60.467500 -149.973056   \n",
       "...                           ...  ...             ...        ...         ...   \n",
       "370340        Shasta-Trinity Unit  ...               A  40.481637 -122.389375   \n",
       "370341    Tuolumne-Calaveras Unit  ...               A  37.617619 -120.938570   \n",
       "370342    Tuolumne-Calaveras Unit  ...               A  37.617619 -120.938570   \n",
       "370343    Tuolumne-Calaveras Unit  ...               B  37.672235 -120.898356   \n",
       "370344  CDF - San Bernardino Unit  ...               A  34.263217 -116.830950   \n",
       "\n",
       "       OWNER_CODE       OWNER_DESCR STATE COUNTY FIPS_CODE FIPS_NAME  \\\n",
       "0            13.0  STATE OR PRIVATE    AK   None      None      None   \n",
       "1            13.0  STATE OR PRIVATE    AK   None      None      None   \n",
       "2            13.0  STATE OR PRIVATE    AK   None      None      None   \n",
       "3            13.0  STATE OR PRIVATE    AK   None      None      None   \n",
       "4             5.0              USFS    AK   None      None      None   \n",
       "...           ...               ...   ...    ...       ...       ...   \n",
       "370340       13.0  STATE OR PRIVATE    CA   None      None      None   \n",
       "370341       12.0   MUNICIPAL/LOCAL    CA   None      None      None   \n",
       "370342       12.0   MUNICIPAL/LOCAL    CA   None      None      None   \n",
       "370343       12.0   MUNICIPAL/LOCAL    CA   None      None      None   \n",
       "370344       13.0  STATE OR PRIVATE    CA   None      None      None   \n",
       "\n",
       "                                                    Shape  \n",
       "0       b'\\x00\\x01\\xad\\x10\\x00\\x0042\\x1b\\xa6.\\xabb\\xc0...  \n",
       "1       b'\\x00\\x01\\xad\\x10\\x00\\x00\\xadG\\xe1z\\x14\\xb8b\\...  \n",
       "2       b'\\x00\\x01\\xad\\x10\\x00\\x00(\\\\\\x8f\\xc2\\xf5\\xaeb...  \n",
       "3       b'\\x00\\x01\\xad\\x10\\x00\\x00\\x03\\xf5V\\xf2\\x8b\\xa...  \n",
       "4       b'\\x00\\x01\\xad\\x10\\x00\\x00\\x82\\xeciE#\\xbfb\\xc0...  \n",
       "...                                                   ...  \n",
       "370340  b'\\x00\\x01\\xad\\x10\\x00\\x00P\\xb8\\x1e\\x85\\xeb\\x9...  \n",
       "370341  b'\\x00\\x01\\xad\\x10\\x00\\x00\\x00\\x80\\xbe\\x88\\x11...  \n",
       "370342  b'\\x00\\x01\\xad\\x10\\x00\\x00\\x00\\x80\\xbe\\x88\\x11...  \n",
       "370343  b'\\x00\\x01\\xad\\x10\\x00\\x00x\\xba_\\xaa~9^\\xc0\\xb...  \n",
       "370344  b'\\x00\\x01\\xad\\x10\\x00\\x00\\x1c\\xa7\\xe8H.5]\\xc0...  \n",
       "\n",
       "[370345 rows x 39 columns]"
      ]
     },
     "execution_count": 27,
     "metadata": {},
     "output_type": "execute_result"
    }
   ],
   "source": [
    "wildfire = pd.read_sql_query (\"select * from Fires where FIRE_YEAR>=2011\", conn)\n",
    "wildfire"
   ]
  },
  {
   "cell_type": "markdown",
   "metadata": {},
   "source": [
    "## Undserstand the Data"
   ]
  },
  {
   "cell_type": "code",
   "execution_count": 11,
   "metadata": {},
   "outputs": [
    {
     "data": {
      "text/html": [
       "<div>\n",
       "<style scoped>\n",
       "    .dataframe tbody tr th:only-of-type {\n",
       "        vertical-align: middle;\n",
       "    }\n",
       "\n",
       "    .dataframe tbody tr th {\n",
       "        vertical-align: top;\n",
       "    }\n",
       "\n",
       "    .dataframe thead th {\n",
       "        text-align: right;\n",
       "    }\n",
       "</style>\n",
       "<table border=\"1\" class=\"dataframe\">\n",
       "  <thead>\n",
       "    <tr style=\"text-align: right;\">\n",
       "      <th></th>\n",
       "      <th>OBJECTID</th>\n",
       "      <th>FOD_ID</th>\n",
       "      <th>FIRE_YEAR</th>\n",
       "      <th>DISCOVERY_DATE</th>\n",
       "      <th>DISCOVERY_DOY</th>\n",
       "      <th>STAT_CAUSE_CODE</th>\n",
       "      <th>CONT_DATE</th>\n",
       "      <th>CONT_DOY</th>\n",
       "      <th>FIRE_SIZE</th>\n",
       "      <th>LATITUDE</th>\n",
       "      <th>LONGITUDE</th>\n",
       "      <th>OWNER_CODE</th>\n",
       "    </tr>\n",
       "  </thead>\n",
       "  <tbody>\n",
       "    <tr>\n",
       "      <th>count</th>\n",
       "      <td>3.703450e+05</td>\n",
       "      <td>3.703450e+05</td>\n",
       "      <td>370345.000000</td>\n",
       "      <td>3.703450e+05</td>\n",
       "      <td>370345.000000</td>\n",
       "      <td>370345.000000</td>\n",
       "      <td>2.834160e+05</td>\n",
       "      <td>283416.000000</td>\n",
       "      <td>370345.000000</td>\n",
       "      <td>370345.000000</td>\n",
       "      <td>370345.000000</td>\n",
       "      <td>370345.000000</td>\n",
       "    </tr>\n",
       "    <tr>\n",
       "      <th>mean</th>\n",
       "      <td>1.665524e+06</td>\n",
       "      <td>2.365269e+08</td>\n",
       "      <td>2012.899721</td>\n",
       "      <td>2.456420e+06</td>\n",
       "      <td>164.504243</td>\n",
       "      <td>6.176570</td>\n",
       "      <td>2.456454e+06</td>\n",
       "      <td>166.180089</td>\n",
       "      <td>101.115841</td>\n",
       "      <td>37.098023</td>\n",
       "      <td>-96.537012</td>\n",
       "      <td>9.640079</td>\n",
       "    </tr>\n",
       "    <tr>\n",
       "      <th>std</th>\n",
       "      <td>1.215818e+05</td>\n",
       "      <td>5.679577e+07</td>\n",
       "      <td>1.466960</td>\n",
       "      <td>5.422507e+02</td>\n",
       "      <td>89.205681</td>\n",
       "      <td>3.528276</td>\n",
       "      <td>5.389812e+02</td>\n",
       "      <td>88.617870</td>\n",
       "      <td>3031.648522</td>\n",
       "      <td>5.992602</td>\n",
       "      <td>16.292403</td>\n",
       "      <td>4.031779</td>\n",
       "    </tr>\n",
       "    <tr>\n",
       "      <th>min</th>\n",
       "      <td>1.453965e+06</td>\n",
       "      <td>2.002006e+07</td>\n",
       "      <td>2011.000000</td>\n",
       "      <td>2.455562e+06</td>\n",
       "      <td>1.000000</td>\n",
       "      <td>1.000000</td>\n",
       "      <td>2.455562e+06</td>\n",
       "      <td>1.000000</td>\n",
       "      <td>0.000010</td>\n",
       "      <td>17.944924</td>\n",
       "      <td>-168.870000</td>\n",
       "      <td>0.000000</td>\n",
       "    </tr>\n",
       "    <tr>\n",
       "      <th>25%</th>\n",
       "      <td>1.569356e+06</td>\n",
       "      <td>2.014357e+08</td>\n",
       "      <td>2012.000000</td>\n",
       "      <td>2.455940e+06</td>\n",
       "      <td>90.000000</td>\n",
       "      <td>4.000000</td>\n",
       "      <td>2.456002e+06</td>\n",
       "      <td>92.000000</td>\n",
       "      <td>0.100000</td>\n",
       "      <td>32.854000</td>\n",
       "      <td>-109.753420</td>\n",
       "      <td>8.000000</td>\n",
       "    </tr>\n",
       "    <tr>\n",
       "      <th>50%</th>\n",
       "      <td>1.661967e+06</td>\n",
       "      <td>2.018219e+08</td>\n",
       "      <td>2013.000000</td>\n",
       "      <td>2.456410e+06</td>\n",
       "      <td>166.000000</td>\n",
       "      <td>5.000000</td>\n",
       "      <td>2.456446e+06</td>\n",
       "      <td>167.000000</td>\n",
       "      <td>0.800000</td>\n",
       "      <td>35.905917</td>\n",
       "      <td>-94.959383</td>\n",
       "      <td>8.000000</td>\n",
       "    </tr>\n",
       "    <tr>\n",
       "      <th>75%</th>\n",
       "      <td>1.774122e+06</td>\n",
       "      <td>3.001210e+08</td>\n",
       "      <td>2014.000000</td>\n",
       "      <td>2.456872e+06</td>\n",
       "      <td>230.000000</td>\n",
       "      <td>9.000000</td>\n",
       "      <td>2.456912e+06</td>\n",
       "      <td>231.000000</td>\n",
       "      <td>3.000000</td>\n",
       "      <td>41.165220</td>\n",
       "      <td>-82.700300</td>\n",
       "      <td>14.000000</td>\n",
       "    </tr>\n",
       "    <tr>\n",
       "      <th>max</th>\n",
       "      <td>1.880465e+06</td>\n",
       "      <td>3.003484e+08</td>\n",
       "      <td>2015.000000</td>\n",
       "      <td>2.457388e+06</td>\n",
       "      <td>366.000000</td>\n",
       "      <td>13.000000</td>\n",
       "      <td>2.457392e+06</td>\n",
       "      <td>366.000000</td>\n",
       "      <td>558198.300000</td>\n",
       "      <td>70.330600</td>\n",
       "      <td>-65.264175</td>\n",
       "      <td>15.000000</td>\n",
       "    </tr>\n",
       "  </tbody>\n",
       "</table>\n",
       "</div>"
      ],
      "text/plain": [
       "           OBJECTID        FOD_ID      FIRE_YEAR  DISCOVERY_DATE  \\\n",
       "count  3.703450e+05  3.703450e+05  370345.000000    3.703450e+05   \n",
       "mean   1.665524e+06  2.365269e+08    2012.899721    2.456420e+06   \n",
       "std    1.215818e+05  5.679577e+07       1.466960    5.422507e+02   \n",
       "min    1.453965e+06  2.002006e+07    2011.000000    2.455562e+06   \n",
       "25%    1.569356e+06  2.014357e+08    2012.000000    2.455940e+06   \n",
       "50%    1.661967e+06  2.018219e+08    2013.000000    2.456410e+06   \n",
       "75%    1.774122e+06  3.001210e+08    2014.000000    2.456872e+06   \n",
       "max    1.880465e+06  3.003484e+08    2015.000000    2.457388e+06   \n",
       "\n",
       "       DISCOVERY_DOY  STAT_CAUSE_CODE     CONT_DATE       CONT_DOY  \\\n",
       "count  370345.000000    370345.000000  2.834160e+05  283416.000000   \n",
       "mean      164.504243         6.176570  2.456454e+06     166.180089   \n",
       "std        89.205681         3.528276  5.389812e+02      88.617870   \n",
       "min         1.000000         1.000000  2.455562e+06       1.000000   \n",
       "25%        90.000000         4.000000  2.456002e+06      92.000000   \n",
       "50%       166.000000         5.000000  2.456446e+06     167.000000   \n",
       "75%       230.000000         9.000000  2.456912e+06     231.000000   \n",
       "max       366.000000        13.000000  2.457392e+06     366.000000   \n",
       "\n",
       "           FIRE_SIZE       LATITUDE      LONGITUDE     OWNER_CODE  \n",
       "count  370345.000000  370345.000000  370345.000000  370345.000000  \n",
       "mean      101.115841      37.098023     -96.537012       9.640079  \n",
       "std      3031.648522       5.992602      16.292403       4.031779  \n",
       "min         0.000010      17.944924    -168.870000       0.000000  \n",
       "25%         0.100000      32.854000    -109.753420       8.000000  \n",
       "50%         0.800000      35.905917     -94.959383       8.000000  \n",
       "75%         3.000000      41.165220     -82.700300      14.000000  \n",
       "max    558198.300000      70.330600     -65.264175      15.000000  "
      ]
     },
     "execution_count": 11,
     "metadata": {},
     "output_type": "execute_result"
    }
   ],
   "source": [
    "wildfire.describe()"
   ]
  },
  {
   "cell_type": "code",
   "execution_count": 12,
   "metadata": {},
   "outputs": [
    {
     "data": {
      "text/plain": [
       "Index(['OBJECTID', 'FOD_ID', 'FPA_ID', 'SOURCE_SYSTEM_TYPE', 'SOURCE_SYSTEM',\n",
       "       'NWCG_REPORTING_AGENCY', 'NWCG_REPORTING_UNIT_ID',\n",
       "       'NWCG_REPORTING_UNIT_NAME', 'SOURCE_REPORTING_UNIT',\n",
       "       'SOURCE_REPORTING_UNIT_NAME', 'LOCAL_FIRE_REPORT_ID',\n",
       "       'LOCAL_INCIDENT_ID', 'FIRE_CODE', 'FIRE_NAME',\n",
       "       'ICS_209_INCIDENT_NUMBER', 'ICS_209_NAME', 'MTBS_ID', 'MTBS_FIRE_NAME',\n",
       "       'COMPLEX_NAME', 'FIRE_YEAR', 'DISCOVERY_DATE', 'DISCOVERY_DOY',\n",
       "       'DISCOVERY_TIME', 'STAT_CAUSE_CODE', 'STAT_CAUSE_DESCR', 'CONT_DATE',\n",
       "       'CONT_DOY', 'CONT_TIME', 'FIRE_SIZE', 'FIRE_SIZE_CLASS', 'LATITUDE',\n",
       "       'LONGITUDE', 'OWNER_CODE', 'OWNER_DESCR', 'STATE', 'COUNTY',\n",
       "       'FIPS_CODE', 'FIPS_NAME', 'Shape'],\n",
       "      dtype='object')"
      ]
     },
     "execution_count": 12,
     "metadata": {},
     "output_type": "execute_result"
    }
   ],
   "source": [
    "wildfire.columns"
   ]
  },
  {
   "cell_type": "code",
   "execution_count": 13,
   "metadata": {},
   "outputs": [
    {
     "data": {
      "text/plain": [
       "{'Arson',\n",
       " 'Campfire',\n",
       " 'Children',\n",
       " 'Debris Burning',\n",
       " 'Equipment Use',\n",
       " 'Fireworks',\n",
       " 'Lightning',\n",
       " 'Miscellaneous',\n",
       " 'Missing/Undefined',\n",
       " 'Powerline',\n",
       " 'Railroad',\n",
       " 'Smoking',\n",
       " 'Structure'}"
      ]
     },
     "execution_count": 13,
     "metadata": {},
     "output_type": "execute_result"
    }
   ],
   "source": [
    "set(wildfire['STAT_CAUSE_DESCR'])"
   ]
  },
  {
   "cell_type": "code",
   "execution_count": 14,
   "metadata": {},
   "outputs": [
    {
     "data": {
      "text/plain": [
       "370345"
      ]
     },
     "execution_count": 14,
     "metadata": {},
     "output_type": "execute_result"
    }
   ],
   "source": [
    "len(wildfire)"
   ]
  },
  {
   "cell_type": "markdown",
   "metadata": {},
   "source": [
    "### Which state has higher number of wildfires?"
   ]
  },
  {
   "cell_type": "code",
   "execution_count": 15,
   "metadata": {},
   "outputs": [],
   "source": [
    "fire_year = pd.DataFrame(wildfire['FIRE_YEAR'].value_counts()).reset_index()"
   ]
  },
  {
   "cell_type": "code",
   "execution_count": 16,
   "metadata": {},
   "outputs": [
    {
     "data": {
      "image/png": "[encoded data removed]",
      "text/plain": [
       "<Figure size 1080x360 with 1 Axes>"
      ]
     },
     "metadata": {
      "needs_background": "light"
     },
     "output_type": "display_data"
    }
   ],
   "source": [
    "state_wf = wildfire.groupby(['STATE']).size().sort_values(ascending = False)\n",
    "\n",
    "fig, ax = plt.subplots(figsize=(15,5))\n",
    "sns.barplot(x=state_wf.index, y=state_wf.values)\n",
    "plt.xticks(rotation=60)\n",
    "plt.xlabel('Year')\n",
    "plt.ylabel('Number of wildfires')\n",
    "plt.title('Wildfire Cases By States')\n",
    "plt.show()"
   ]
  },
  {
   "cell_type": "markdown",
   "metadata": {},
   "source": [
    "### For the state with the most wildfires, what are some common reasons?"
   ]
  },
  {
   "cell_type": "code",
   "execution_count": 28,
   "metadata": {},
   "outputs": [
    {
     "data": {
      "image/png": "[encoded data removed]",
      "text/plain": [
       "<Figure size 1080x360 with 1 Axes>"
      ]
     },
     "metadata": {},
     "output_type": "display_data"
    }
   ],
   "source": [
    "TX_wf = wildfire[wildfire['STATE']=='TX']\n",
    "df_grouped = TX_wf.groupby(['STAT_CAUSE_DESCR']).size().sort_values(ascending = False)\n",
    "\n",
    "fig, ax = plt.subplots(figsize=(15,5))\n",
    "clrs = ['orange' if (x < max(df_grouped.values)) else 'red' for x in df_grouped.values]\n",
    "sns.barplot(y=df_grouped.index, x=df_grouped.values, orient = 'h', palette=clrs)\n",
    "plt.xlabel('Reasons')\n",
    "plt.ylabel('Number of wildfires')\n",
    "plt.title('TX State Wildfire Cases Count For Different Reasons')\n",
    "plt.show()"
   ]
  },
  {
   "cell_type": "markdown",
   "metadata": {},
   "source": [
    "## Plot the wildfire incidents by size class on locations"
   ]
  },
  {
   "cell_type": "code",
   "execution_count": null,
   "metadata": {},
   "outputs": [
    {
     "data": {
      "text/plain": [
       "<AxesSubplot:xlabel='LONGITUDE', ylabel='LATITUDE'>"
      ]
     },
     "execution_count": 29,
     "metadata": {},
     "output_type": "execute_result"
    }
   ],
   "source": [
    "sns.set(rc={'figure.figsize':(15,10)})\n",
    "sns.scatterplot(x=\"LONGITUDE\", y=\"LATITUDE\", data=wildfire, hue=\"FIRE_SIZE_CLASS\")"
   ]
  },
  {
   "cell_type": "markdown",
   "metadata": {},
   "source": [
    "## Plot the wildfire average count on a heat map"
   ]
  },
  {
   "cell_type": "code",
   "execution_count": null,
   "metadata": {},
   "outputs": [],
   "source": [
    "count_wf = pd.DataFrame(wildfire.groupby(['LONGITUDE', 'LATITUDE']).size()).reset_index()"
   ]
  },
  {
   "cell_type": "code",
   "execution_count": null,
   "metadata": {},
   "outputs": [],
   "source": [
    "count_wf = count_wf.rename(columns={count_wf.columns[2]: 'count'})"
   ]
  },
  {
   "cell_type": "code",
   "execution_count": null,
   "metadata": {},
   "outputs": [],
   "source": [
    "count_wf"
   ]
  },
  {
   "cell_type": "code",
   "execution_count": null,
   "metadata": {},
   "outputs": [],
   "source": [
    "def heatmap_bins(data, fieldsxy, ncuts=30, aggarg='mean'):\n",
    "    \"\"\"Perform data.groupby using bin cuts along columns named in fieldsxy.\n",
    "    Args:\n",
    "        data     - pandas dataframe\n",
    "        fieldsxy - list of column names along which to perform binned groupby\n",
    "        ncuts    - number of cuts to perform for each field (see pd.cut)\n",
    "        aggarg   - aggregation operation to perform, default: 'mean'\n",
    "    Returns:\n",
    "        grouped dataframe, ready for plotting via sns.heatmap(means['COLUMNAME'])\n",
    "    \"\"\"\n",
    "    # based on: https://matthewmcgonagle.github.io/blog/2019/01/22/HeatmapBins\n",
    "    cuts = pd.DataFrame({str(feature) + ' bins' : pd.cut(data[feature], ncuts) for feature in fieldsxy})\n",
    "    means = data.join(cuts).groupby( list(cuts) ).agg(aggarg)\n",
    "    means = means.unstack(level = 0) # Use level 0 to put 0Bin as columns.\n",
    "    # Reverse the order of the rows as the heatmap will print from top to bottom.\n",
    "    means = means.iloc[::-1]\n",
    "    return means"
   ]
  },
  {
   "cell_type": "code",
   "execution_count": null,
   "metadata": {},
   "outputs": [],
   "source": [
    "with plt.rc_context({'figure.figsize': (10,8)}):\n",
    "    means = heatmap_bins(count_wf[['LONGITUDE', 'LATITUDE','count']],['LONGITUDE', 'LATITUDE'])\n",
    "    plt.clf()\n",
    "sns.heatmap(means['count'])\n",
    "plt.title('Means of Wildfire Count vs Features LONG and LAT')\n",
    "plt.tight_layout()"
   ]
  },
  {
   "cell_type": "code",
   "execution_count": null,
   "metadata": {},
   "outputs": [],
   "source": []
  },
  {
   "cell_type": "code",
   "execution_count": null,
   "metadata": {},
   "outputs": [],
   "source": []
  },
  {
   "cell_type": "code",
   "execution_count": null,
   "metadata": {},
   "outputs": [],
   "source": []
  }
 ],
 "metadata": {
  "kernelspec": {
   "display_name": "Python 3 (ipykernel)",
   "language": "python",
   "name": "python3"
  },
  "language_info": {
   "codemirror_mode": {
    "name": "ipython",
    "version": 3
   },
   "file_extension": ".py",
   "mimetype": "text/x-python",
   "name": "python",
   "nbconvert_exporter": "python",
   "pygments_lexer": "ipython3",
   "version": "3.8.8"
  }
 },
 "nbformat": 4,
 "nbformat_minor": 4
}
