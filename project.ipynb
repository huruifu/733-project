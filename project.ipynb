{
 "cells": [
  {
   "cell_type": "markdown",
   "metadata": {},
   "source": [
    "# Project - Forest Fire"
   ]
  },
  {
   "cell_type": "code",
   "execution_count": 20,
   "metadata": {},
   "outputs": [],
   "source": [
    "import pandas as pd\n",
    "import numpy as np\n",
    "import sqlite3\n",
    "import matplotlib.pyplot as plt\n",
    "from numpy import arange\n",
    "import seaborn as sns"
   ]
  },
  {
   "cell_type": "markdown",
   "metadata": {},
   "source": [
    "## Read Data"
   ]
  },
  {
   "cell_type": "markdown",
   "metadata": {},
   "source": [
    "Data source: https://www.fs.usda.gov/rds/archive/catalog/RDS-2013-0009.4"
   ]
  },
  {
   "cell_type": "code",
   "execution_count": 42,
   "metadata": {},
   "outputs": [
    {
     "data": {
      "text/html": [
       "<div>\n",
       "<style scoped>\n",
       "    .dataframe tbody tr th:only-of-type {\n",
       "        vertical-align: middle;\n",
       "    }\n",
       "\n",
       "    .dataframe tbody tr th {\n",
       "        vertical-align: top;\n",
       "    }\n",
       "\n",
       "    .dataframe thead th {\n",
       "        text-align: right;\n",
       "    }\n",
       "</style>\n",
       "<table border=\"1\" class=\"dataframe\">\n",
       "  <thead>\n",
       "    <tr style=\"text-align: right;\">\n",
       "      <th></th>\n",
       "      <th>OBJECTID</th>\n",
       "      <th>FOD_ID</th>\n",
       "      <th>FPA_ID</th>\n",
       "      <th>SOURCE_SYSTEM_TYPE</th>\n",
       "      <th>SOURCE_SYSTEM</th>\n",
       "      <th>NWCG_REPORTING_AGENCY</th>\n",
       "      <th>NWCG_REPORTING_UNIT_ID</th>\n",
       "      <th>NWCG_REPORTING_UNIT_NAME</th>\n",
       "      <th>SOURCE_REPORTING_UNIT</th>\n",
       "      <th>SOURCE_REPORTING_UNIT_NAME</th>\n",
       "      <th>...</th>\n",
       "      <th>FIRE_SIZE_CLASS</th>\n",
       "      <th>LATITUDE</th>\n",
       "      <th>LONGITUDE</th>\n",
       "      <th>OWNER_CODE</th>\n",
       "      <th>OWNER_DESCR</th>\n",
       "      <th>STATE</th>\n",
       "      <th>COUNTY</th>\n",
       "      <th>FIPS_CODE</th>\n",
       "      <th>FIPS_NAME</th>\n",
       "      <th>Shape</th>\n",
       "    </tr>\n",
       "  </thead>\n",
       "  <tbody>\n",
       "    <tr>\n",
       "      <th>0</th>\n",
       "      <td>1067488</td>\n",
       "      <td>1302561</td>\n",
       "      <td>CDF_2010_56_2229_001566</td>\n",
       "      <td>NONFED</td>\n",
       "      <td>ST-CACDF</td>\n",
       "      <td>ST/C&amp;L</td>\n",
       "      <td>USCABEU</td>\n",
       "      <td>San Benito-Monterey Unit</td>\n",
       "      <td>CABEU</td>\n",
       "      <td>CDF - San Benito-Monterey Unit</td>\n",
       "      <td>...</td>\n",
       "      <td>C</td>\n",
       "      <td>36.766944</td>\n",
       "      <td>-121.303056</td>\n",
       "      <td>14.0</td>\n",
       "      <td>MISSING/NOT SPECIFIED</td>\n",
       "      <td>CA</td>\n",
       "      <td>None</td>\n",
       "      <td>None</td>\n",
       "      <td>None</td>\n",
       "      <td>b'\\x00\\x01\\xad\\x10\\x00\\x00\\xc0\\x07\\x1bCeS^\\xc0...</td>\n",
       "    </tr>\n",
       "    <tr>\n",
       "      <th>1</th>\n",
       "      <td>1067489</td>\n",
       "      <td>1302566</td>\n",
       "      <td>CDF_2010_56_2229_001806</td>\n",
       "      <td>NONFED</td>\n",
       "      <td>ST-CACDF</td>\n",
       "      <td>ST/C&amp;L</td>\n",
       "      <td>USCABEU</td>\n",
       "      <td>San Benito-Monterey Unit</td>\n",
       "      <td>CABEU</td>\n",
       "      <td>CDF - San Benito-Monterey Unit</td>\n",
       "      <td>...</td>\n",
       "      <td>B</td>\n",
       "      <td>36.776944</td>\n",
       "      <td>-121.311111</td>\n",
       "      <td>14.0</td>\n",
       "      <td>MISSING/NOT SPECIFIED</td>\n",
       "      <td>CA</td>\n",
       "      <td>None</td>\n",
       "      <td>None</td>\n",
       "      <td>None</td>\n",
       "      <td>b'\\x00\\x01\\xad\\x10\\x00\\x00\\xd0\\xb7\\x92&gt;\\xe9S^\\...</td>\n",
       "    </tr>\n",
       "    <tr>\n",
       "      <th>2</th>\n",
       "      <td>1067490</td>\n",
       "      <td>1302568</td>\n",
       "      <td>CDF_2010_56_2229_001857</td>\n",
       "      <td>NONFED</td>\n",
       "      <td>ST-CACDF</td>\n",
       "      <td>ST/C&amp;L</td>\n",
       "      <td>USCABEU</td>\n",
       "      <td>San Benito-Monterey Unit</td>\n",
       "      <td>CABEU</td>\n",
       "      <td>CDF - San Benito-Monterey Unit</td>\n",
       "      <td>...</td>\n",
       "      <td>A</td>\n",
       "      <td>36.856111</td>\n",
       "      <td>-121.381111</td>\n",
       "      <td>14.0</td>\n",
       "      <td>MISSING/NOT SPECIFIED</td>\n",
       "      <td>CA</td>\n",
       "      <td>None</td>\n",
       "      <td>None</td>\n",
       "      <td>None</td>\n",
       "      <td>b'\\x00\\x01\\xad\\x10\\x00\\x00\\xe4e\\xda\\x1fdX^\\xc0...</td>\n",
       "    </tr>\n",
       "    <tr>\n",
       "      <th>3</th>\n",
       "      <td>1067491</td>\n",
       "      <td>1302570</td>\n",
       "      <td>CDF_2010_56_2229_001897</td>\n",
       "      <td>NONFED</td>\n",
       "      <td>ST-CACDF</td>\n",
       "      <td>ST/C&amp;L</td>\n",
       "      <td>USCABEU</td>\n",
       "      <td>San Benito-Monterey Unit</td>\n",
       "      <td>CABEU</td>\n",
       "      <td>CDF - San Benito-Monterey Unit</td>\n",
       "      <td>...</td>\n",
       "      <td>A</td>\n",
       "      <td>36.818056</td>\n",
       "      <td>-121.391111</td>\n",
       "      <td>14.0</td>\n",
       "      <td>MISSING/NOT SPECIFIED</td>\n",
       "      <td>CA</td>\n",
       "      <td>None</td>\n",
       "      <td>None</td>\n",
       "      <td>None</td>\n",
       "      <td>b'\\x00\\x01\\xad\\x10\\x00\\x00T\\xa3\\xe4\\xf6\\x07Y^\\...</td>\n",
       "    </tr>\n",
       "    <tr>\n",
       "      <th>4</th>\n",
       "      <td>1067492</td>\n",
       "      <td>1302576</td>\n",
       "      <td>CDF_2010_56_2229_002326</td>\n",
       "      <td>NONFED</td>\n",
       "      <td>ST-CACDF</td>\n",
       "      <td>ST/C&amp;L</td>\n",
       "      <td>USCABEU</td>\n",
       "      <td>San Benito-Monterey Unit</td>\n",
       "      <td>CABEU</td>\n",
       "      <td>CDF - San Benito-Monterey Unit</td>\n",
       "      <td>...</td>\n",
       "      <td>B</td>\n",
       "      <td>36.883056</td>\n",
       "      <td>-121.561944</td>\n",
       "      <td>14.0</td>\n",
       "      <td>MISSING/NOT SPECIFIED</td>\n",
       "      <td>CA</td>\n",
       "      <td>None</td>\n",
       "      <td>None</td>\n",
       "      <td>None</td>\n",
       "      <td>b'\\x00\\x01\\xad\\x10\\x00\\x00\\x04\\xfe\\xcf\\xe5\\xf6...</td>\n",
       "    </tr>\n",
       "    <tr>\n",
       "      <th>...</th>\n",
       "      <td>...</td>\n",
       "      <td>...</td>\n",
       "      <td>...</td>\n",
       "      <td>...</td>\n",
       "      <td>...</td>\n",
       "      <td>...</td>\n",
       "      <td>...</td>\n",
       "      <td>...</td>\n",
       "      <td>...</td>\n",
       "      <td>...</td>\n",
       "      <td>...</td>\n",
       "      <td>...</td>\n",
       "      <td>...</td>\n",
       "      <td>...</td>\n",
       "      <td>...</td>\n",
       "      <td>...</td>\n",
       "      <td>...</td>\n",
       "      <td>...</td>\n",
       "      <td>...</td>\n",
       "      <td>...</td>\n",
       "      <td>...</td>\n",
       "    </tr>\n",
       "    <tr>\n",
       "      <th>450229</th>\n",
       "      <td>1880461</td>\n",
       "      <td>300348363</td>\n",
       "      <td>2015CAIRS29019636</td>\n",
       "      <td>NONFED</td>\n",
       "      <td>ST-CACDF</td>\n",
       "      <td>ST/C&amp;L</td>\n",
       "      <td>USCASHU</td>\n",
       "      <td>Shasta-Trinity Unit</td>\n",
       "      <td>CASHU</td>\n",
       "      <td>Shasta-Trinity Unit</td>\n",
       "      <td>...</td>\n",
       "      <td>A</td>\n",
       "      <td>40.481637</td>\n",
       "      <td>-122.389375</td>\n",
       "      <td>13.0</td>\n",
       "      <td>STATE OR PRIVATE</td>\n",
       "      <td>CA</td>\n",
       "      <td>None</td>\n",
       "      <td>None</td>\n",
       "      <td>None</td>\n",
       "      <td>b'\\x00\\x01\\xad\\x10\\x00\\x00P\\xb8\\x1e\\x85\\xeb\\x9...</td>\n",
       "    </tr>\n",
       "    <tr>\n",
       "      <th>450230</th>\n",
       "      <td>1880462</td>\n",
       "      <td>300348373</td>\n",
       "      <td>2015CAIRS29217935</td>\n",
       "      <td>NONFED</td>\n",
       "      <td>ST-CACDF</td>\n",
       "      <td>ST/C&amp;L</td>\n",
       "      <td>USCATCU</td>\n",
       "      <td>Tuolumne-Calaveras Unit</td>\n",
       "      <td>CATCU</td>\n",
       "      <td>Tuolumne-Calaveras Unit</td>\n",
       "      <td>...</td>\n",
       "      <td>A</td>\n",
       "      <td>37.617619</td>\n",
       "      <td>-120.938570</td>\n",
       "      <td>12.0</td>\n",
       "      <td>MUNICIPAL/LOCAL</td>\n",
       "      <td>CA</td>\n",
       "      <td>None</td>\n",
       "      <td>None</td>\n",
       "      <td>None</td>\n",
       "      <td>b'\\x00\\x01\\xad\\x10\\x00\\x00\\x00\\x80\\xbe\\x88\\x11...</td>\n",
       "    </tr>\n",
       "    <tr>\n",
       "      <th>450231</th>\n",
       "      <td>1880463</td>\n",
       "      <td>300348375</td>\n",
       "      <td>2015CAIRS28364460</td>\n",
       "      <td>NONFED</td>\n",
       "      <td>ST-CACDF</td>\n",
       "      <td>ST/C&amp;L</td>\n",
       "      <td>USCATCU</td>\n",
       "      <td>Tuolumne-Calaveras Unit</td>\n",
       "      <td>CATCU</td>\n",
       "      <td>Tuolumne-Calaveras Unit</td>\n",
       "      <td>...</td>\n",
       "      <td>A</td>\n",
       "      <td>37.617619</td>\n",
       "      <td>-120.938570</td>\n",
       "      <td>12.0</td>\n",
       "      <td>MUNICIPAL/LOCAL</td>\n",
       "      <td>CA</td>\n",
       "      <td>None</td>\n",
       "      <td>None</td>\n",
       "      <td>None</td>\n",
       "      <td>b'\\x00\\x01\\xad\\x10\\x00\\x00\\x00\\x80\\xbe\\x88\\x11...</td>\n",
       "    </tr>\n",
       "    <tr>\n",
       "      <th>450232</th>\n",
       "      <td>1880464</td>\n",
       "      <td>300348377</td>\n",
       "      <td>2015CAIRS29218079</td>\n",
       "      <td>NONFED</td>\n",
       "      <td>ST-CACDF</td>\n",
       "      <td>ST/C&amp;L</td>\n",
       "      <td>USCATCU</td>\n",
       "      <td>Tuolumne-Calaveras Unit</td>\n",
       "      <td>CATCU</td>\n",
       "      <td>Tuolumne-Calaveras Unit</td>\n",
       "      <td>...</td>\n",
       "      <td>B</td>\n",
       "      <td>37.672235</td>\n",
       "      <td>-120.898356</td>\n",
       "      <td>12.0</td>\n",
       "      <td>MUNICIPAL/LOCAL</td>\n",
       "      <td>CA</td>\n",
       "      <td>None</td>\n",
       "      <td>None</td>\n",
       "      <td>None</td>\n",
       "      <td>b'\\x00\\x01\\xad\\x10\\x00\\x00x\\xba_\\xaa~9^\\xc0\\xb...</td>\n",
       "    </tr>\n",
       "    <tr>\n",
       "      <th>450233</th>\n",
       "      <td>1880465</td>\n",
       "      <td>300348399</td>\n",
       "      <td>2015CAIRS26733926</td>\n",
       "      <td>NONFED</td>\n",
       "      <td>ST-CACDF</td>\n",
       "      <td>ST/C&amp;L</td>\n",
       "      <td>USCABDU</td>\n",
       "      <td>San Bernardino Unit</td>\n",
       "      <td>CABDU</td>\n",
       "      <td>CDF - San Bernardino Unit</td>\n",
       "      <td>...</td>\n",
       "      <td>A</td>\n",
       "      <td>34.263217</td>\n",
       "      <td>-116.830950</td>\n",
       "      <td>13.0</td>\n",
       "      <td>STATE OR PRIVATE</td>\n",
       "      <td>CA</td>\n",
       "      <td>None</td>\n",
       "      <td>None</td>\n",
       "      <td>None</td>\n",
       "      <td>b'\\x00\\x01\\xad\\x10\\x00\\x00\\x1c\\xa7\\xe8H.5]\\xc0...</td>\n",
       "    </tr>\n",
       "  </tbody>\n",
       "</table>\n",
       "<p>450234 rows × 39 columns</p>\n",
       "</div>"
      ],
      "text/plain": [
       "        OBJECTID     FOD_ID                         FPA_ID SOURCE_SYSTEM_TYPE  \\\n",
       "0        1067488    1302561  CDF_2010_56_2229_001566                   NONFED   \n",
       "1        1067489    1302566  CDF_2010_56_2229_001806                   NONFED   \n",
       "2        1067490    1302568  CDF_2010_56_2229_001857                   NONFED   \n",
       "3        1067491    1302570  CDF_2010_56_2229_001897                   NONFED   \n",
       "4        1067492    1302576  CDF_2010_56_2229_002326                   NONFED   \n",
       "...          ...        ...                            ...                ...   \n",
       "450229   1880461  300348363              2015CAIRS29019636             NONFED   \n",
       "450230   1880462  300348373              2015CAIRS29217935             NONFED   \n",
       "450231   1880463  300348375              2015CAIRS28364460             NONFED   \n",
       "450232   1880464  300348377              2015CAIRS29218079             NONFED   \n",
       "450233   1880465  300348399              2015CAIRS26733926             NONFED   \n",
       "\n",
       "       SOURCE_SYSTEM NWCG_REPORTING_AGENCY NWCG_REPORTING_UNIT_ID  \\\n",
       "0           ST-CACDF                ST/C&L                USCABEU   \n",
       "1           ST-CACDF                ST/C&L                USCABEU   \n",
       "2           ST-CACDF                ST/C&L                USCABEU   \n",
       "3           ST-CACDF                ST/C&L                USCABEU   \n",
       "4           ST-CACDF                ST/C&L                USCABEU   \n",
       "...              ...                   ...                    ...   \n",
       "450229      ST-CACDF                ST/C&L                USCASHU   \n",
       "450230      ST-CACDF                ST/C&L                USCATCU   \n",
       "450231      ST-CACDF                ST/C&L                USCATCU   \n",
       "450232      ST-CACDF                ST/C&L                USCATCU   \n",
       "450233      ST-CACDF                ST/C&L                USCABDU   \n",
       "\n",
       "        NWCG_REPORTING_UNIT_NAME SOURCE_REPORTING_UNIT  \\\n",
       "0       San Benito-Monterey Unit                 CABEU   \n",
       "1       San Benito-Monterey Unit                 CABEU   \n",
       "2       San Benito-Monterey Unit                 CABEU   \n",
       "3       San Benito-Monterey Unit                 CABEU   \n",
       "4       San Benito-Monterey Unit                 CABEU   \n",
       "...                          ...                   ...   \n",
       "450229       Shasta-Trinity Unit                 CASHU   \n",
       "450230   Tuolumne-Calaveras Unit                 CATCU   \n",
       "450231   Tuolumne-Calaveras Unit                 CATCU   \n",
       "450232   Tuolumne-Calaveras Unit                 CATCU   \n",
       "450233       San Bernardino Unit                 CABDU   \n",
       "\n",
       "            SOURCE_REPORTING_UNIT_NAME  ... FIRE_SIZE_CLASS   LATITUDE  \\\n",
       "0       CDF - San Benito-Monterey Unit  ...               C  36.766944   \n",
       "1       CDF - San Benito-Monterey Unit  ...               B  36.776944   \n",
       "2       CDF - San Benito-Monterey Unit  ...               A  36.856111   \n",
       "3       CDF - San Benito-Monterey Unit  ...               A  36.818056   \n",
       "4       CDF - San Benito-Monterey Unit  ...               B  36.883056   \n",
       "...                                ...  ...             ...        ...   \n",
       "450229             Shasta-Trinity Unit  ...               A  40.481637   \n",
       "450230         Tuolumne-Calaveras Unit  ...               A  37.617619   \n",
       "450231         Tuolumne-Calaveras Unit  ...               A  37.617619   \n",
       "450232         Tuolumne-Calaveras Unit  ...               B  37.672235   \n",
       "450233       CDF - San Bernardino Unit  ...               A  34.263217   \n",
       "\n",
       "         LONGITUDE OWNER_CODE            OWNER_DESCR STATE COUNTY FIPS_CODE  \\\n",
       "0      -121.303056       14.0  MISSING/NOT SPECIFIED    CA   None      None   \n",
       "1      -121.311111       14.0  MISSING/NOT SPECIFIED    CA   None      None   \n",
       "2      -121.381111       14.0  MISSING/NOT SPECIFIED    CA   None      None   \n",
       "3      -121.391111       14.0  MISSING/NOT SPECIFIED    CA   None      None   \n",
       "4      -121.561944       14.0  MISSING/NOT SPECIFIED    CA   None      None   \n",
       "...            ...        ...                    ...   ...    ...       ...   \n",
       "450229 -122.389375       13.0       STATE OR PRIVATE    CA   None      None   \n",
       "450230 -120.938570       12.0        MUNICIPAL/LOCAL    CA   None      None   \n",
       "450231 -120.938570       12.0        MUNICIPAL/LOCAL    CA   None      None   \n",
       "450232 -120.898356       12.0        MUNICIPAL/LOCAL    CA   None      None   \n",
       "450233 -116.830950       13.0       STATE OR PRIVATE    CA   None      None   \n",
       "\n",
       "       FIPS_NAME                                              Shape  \n",
       "0           None  b'\\x00\\x01\\xad\\x10\\x00\\x00\\xc0\\x07\\x1bCeS^\\xc0...  \n",
       "1           None  b'\\x00\\x01\\xad\\x10\\x00\\x00\\xd0\\xb7\\x92>\\xe9S^\\...  \n",
       "2           None  b'\\x00\\x01\\xad\\x10\\x00\\x00\\xe4e\\xda\\x1fdX^\\xc0...  \n",
       "3           None  b'\\x00\\x01\\xad\\x10\\x00\\x00T\\xa3\\xe4\\xf6\\x07Y^\\...  \n",
       "4           None  b'\\x00\\x01\\xad\\x10\\x00\\x00\\x04\\xfe\\xcf\\xe5\\xf6...  \n",
       "...          ...                                                ...  \n",
       "450229      None  b'\\x00\\x01\\xad\\x10\\x00\\x00P\\xb8\\x1e\\x85\\xeb\\x9...  \n",
       "450230      None  b'\\x00\\x01\\xad\\x10\\x00\\x00\\x00\\x80\\xbe\\x88\\x11...  \n",
       "450231      None  b'\\x00\\x01\\xad\\x10\\x00\\x00\\x00\\x80\\xbe\\x88\\x11...  \n",
       "450232      None  b'\\x00\\x01\\xad\\x10\\x00\\x00x\\xba_\\xaa~9^\\xc0\\xb...  \n",
       "450233      None  b'\\x00\\x01\\xad\\x10\\x00\\x00\\x1c\\xa7\\xe8H.5]\\xc0...  \n",
       "\n",
       "[450234 rows x 39 columns]"
      ]
     },
     "execution_count": 42,
     "metadata": {},
     "output_type": "execute_result"
    }
   ],
   "source": [
    "conn = sqlite3.connect(\"Data/FPA_FOD_20170508.sqlite\")\n",
    "wildfire = pd.read_sql_query (\"select * from Fires where FIRE_YEAR>=2010\", conn)\n",
    "wildfire"
   ]
  },
  {
   "cell_type": "markdown",
   "metadata": {},
   "source": [
    "## Undserstand the Data"
   ]
  },
  {
   "cell_type": "code",
   "execution_count": 43,
   "metadata": {},
   "outputs": [
    {
     "data": {
      "text/plain": [
       "Index(['OBJECTID', 'FOD_ID', 'FPA_ID', 'SOURCE_SYSTEM_TYPE', 'SOURCE_SYSTEM',\n",
       "       'NWCG_REPORTING_AGENCY', 'NWCG_REPORTING_UNIT_ID',\n",
       "       'NWCG_REPORTING_UNIT_NAME', 'SOURCE_REPORTING_UNIT',\n",
       "       'SOURCE_REPORTING_UNIT_NAME', 'LOCAL_FIRE_REPORT_ID',\n",
       "       'LOCAL_INCIDENT_ID', 'FIRE_CODE', 'FIRE_NAME',\n",
       "       'ICS_209_INCIDENT_NUMBER', 'ICS_209_NAME', 'MTBS_ID', 'MTBS_FIRE_NAME',\n",
       "       'COMPLEX_NAME', 'FIRE_YEAR', 'DISCOVERY_DATE', 'DISCOVERY_DOY',\n",
       "       'DISCOVERY_TIME', 'STAT_CAUSE_CODE', 'STAT_CAUSE_DESCR', 'CONT_DATE',\n",
       "       'CONT_DOY', 'CONT_TIME', 'FIRE_SIZE', 'FIRE_SIZE_CLASS', 'LATITUDE',\n",
       "       'LONGITUDE', 'OWNER_CODE', 'OWNER_DESCR', 'STATE', 'COUNTY',\n",
       "       'FIPS_CODE', 'FIPS_NAME', 'Shape'],\n",
       "      dtype='object')"
      ]
     },
     "execution_count": 43,
     "metadata": {},
     "output_type": "execute_result"
    }
   ],
   "source": [
    "wildfire.columns"
   ]
  },
  {
   "cell_type": "code",
   "execution_count": 44,
   "metadata": {},
   "outputs": [],
   "source": [
    "#set(wildfire['STATE'])"
   ]
  },
  {
   "cell_type": "code",
   "execution_count": 45,
   "metadata": {},
   "outputs": [
    {
     "data": {
      "text/plain": [
       "{'Arson',\n",
       " 'Campfire',\n",
       " 'Children',\n",
       " 'Debris Burning',\n",
       " 'Equipment Use',\n",
       " 'Fireworks',\n",
       " 'Lightning',\n",
       " 'Miscellaneous',\n",
       " 'Missing/Undefined',\n",
       " 'Powerline',\n",
       " 'Railroad',\n",
       " 'Smoking',\n",
       " 'Structure'}"
      ]
     },
     "execution_count": 45,
     "metadata": {},
     "output_type": "execute_result"
    }
   ],
   "source": [
    "set(wildfire['STAT_CAUSE_DESCR'])"
   ]
  },
  {
   "cell_type": "code",
   "execution_count": 46,
   "metadata": {},
   "outputs": [
    {
     "data": {
      "text/plain": [
       "450234"
      ]
     },
     "execution_count": 46,
     "metadata": {},
     "output_type": "execute_result"
    }
   ],
   "source": [
    "len(wildfire)"
   ]
  },
  {
   "cell_type": "markdown",
   "metadata": {},
   "source": [
    "### Which state has higher number of wildfires?"
   ]
  },
  {
   "cell_type": "code",
   "execution_count": 47,
   "metadata": {},
   "outputs": [],
   "source": [
    "fire_year = pd.DataFrame(wildfire['FIRE_YEAR'].value_counts()).reset_index()"
   ]
  },
  {
   "cell_type": "code",
   "execution_count": 48,
   "metadata": {},
   "outputs": [
    {
     "data": {
      "image/png": "[encoded data removed]",
      "text/plain": [
       "<Figure size 1080x360 with 1 Axes>"
      ]
     },
     "metadata": {
      "needs_background": "light"
     },
     "output_type": "display_data"
    }
   ],
   "source": [
    "state_wf = wildfire.groupby(['STATE']).size().sort_values(ascending = False)\n",
    "\n",
    "fig, ax = plt.subplots(figsize=(15,5))\n",
    "sns.barplot(x=state_wf.index, y=state_wf.values)\n",
    "plt.xticks(rotation=60)\n",
    "plt.xlabel('Year')\n",
    "plt.ylabel('Number of wildfires')\n",
    "plt.title('Wildfire Cases By Counties')\n",
    "plt.show()"
   ]
  },
  {
   "cell_type": "markdown",
   "metadata": {},
   "source": [
    "### For the state with the most wildfires, what are some common reasons?"
   ]
  },
  {
   "cell_type": "code",
   "execution_count": 50,
   "metadata": {},
   "outputs": [
    {
     "data": {
      "image/png": "[encoded data removed]",
      "text/plain": [
       "<Figure size 1080x360 with 1 Axes>"
      ]
     },
     "metadata": {
      "needs_background": "light"
     },
     "output_type": "display_data"
    }
   ],
   "source": [
    "CA_wf = wildfire[wildfire['STATE']=='TX']\n",
    "df_grouped = CA_wf.groupby(['STAT_CAUSE_DESCR']).size().sort_values(ascending = False)\n",
    "\n",
    "fig, ax = plt.subplots(figsize=(15,5))\n",
    "clrs = ['orange' if (x < max(df_grouped.values)) else 'red' for x in df_grouped.values]\n",
    "sns.barplot(y=df_grouped.index, x=df_grouped.values, orient = 'h', palette=clrs)\n",
    "plt.xlabel('Reasons')\n",
    "plt.ylabel('Number of wildfires')\n",
    "plt.title('Canada Wildfire Cases Count For Different Reasons')\n",
    "plt.show()"
   ]
  },
  {
   "cell_type": "code",
   "execution_count": null,
   "metadata": {},
   "outputs": [],
   "source": []
  },
  {
   "cell_type": "code",
   "execution_count": null,
   "metadata": {},
   "outputs": [],
   "source": []
  },
  {
   "cell_type": "code",
   "execution_count": null,
   "metadata": {},
   "outputs": [],
   "source": []
  },
  {
   "cell_type": "code",
   "execution_count": null,
   "metadata": {},
   "outputs": [],
   "source": []
  },
  {
   "cell_type": "code",
   "execution_count": null,
   "metadata": {},
   "outputs": [],
   "source": []
  },
  {
   "cell_type": "code",
   "execution_count": null,
   "metadata": {},
   "outputs": [],
   "source": []
  },
  {
   "cell_type": "code",
   "execution_count": null,
   "metadata": {},
   "outputs": [],
   "source": []
  },
  {
   "cell_type": "code",
   "execution_count": null,
   "metadata": {},
   "outputs": [],
   "source": []
  },
  {
   "cell_type": "code",
   "execution_count": null,
   "metadata": {},
   "outputs": [],
   "source": []
  },
  {
   "cell_type": "code",
   "execution_count": null,
   "metadata": {},
   "outputs": [],
   "source": []
  }
 ],
 "metadata": {
  "kernelspec": {
   "display_name": "Python 3 (ipykernel)",
   "language": "python",
   "name": "python3"
  },
  "language_info": {
   "codemirror_mode": {
    "name": "ipython",
    "version": 3
   },
   "file_extension": ".py",
   "mimetype": "text/x-python",
   "name": "python",
   "nbconvert_exporter": "python",
   "pygments_lexer": "ipython3",
   "version": "3.8.8"
  }
 },
 "nbformat": 4,
 "nbformat_minor": 4
}
