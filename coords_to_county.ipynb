{
 "cells": [
  {
   "cell_type": "code",
   "execution_count": 1,
   "metadata": {},
   "outputs": [],
   "source": [
    "import pandas as pd\n",
    "import json\n",
    "from shapely.geometry import Point\n",
    "from shapely.geometry.polygon import Polygon"
   ]
  },
  {
   "cell_type": "code",
   "execution_count": 2,
   "metadata": {},
   "outputs": [
    {
     "data": {
      "text/plain": [
       "array(['fire_size', 'latitude_x', 'longitude_x', 'datetime', 'awnd',\n",
       "       'prcp', 'avg_temp'], dtype=object)"
      ]
     },
     "execution_count": 2,
     "metadata": {},
     "output_type": "execute_result"
    }
   ],
   "source": [
    "data = pd.read_csv('etl_filtered_v1.csv', index_col=[0]).fillna(0)\n",
    "rows_before_merge = len(data)\n",
    "data['AVG_TEMP'] = (data['TMAX'] - data['TMIN'])/2\n",
    "data.columns = map(str.lower, data.columns)\n",
    "features = ['latitude_x', 'longitude_x', 'avg_temp', 'awnd', 'prcp', 'datetime', 'fire_size']\n",
    "data = data.drop(columns=[x for x in data.columns if x not in features])\n",
    "data.columns.values"
   ]
  },
  {
   "cell_type": "code",
   "execution_count": 3,
   "metadata": {},
   "outputs": [],
   "source": [
    "def loc_match(row):\n",
    "    lat, long = row[0], row[1]\n",
    "    coords = row[2]\n",
    "    point = Point(lat, long)\n",
    "    for poly in coords:\n",
    "        polygon = Polygon([(x[1], x[0]) for x in poly])\n",
    "        if polygon.contains(point):\n",
    "            return poly"
   ]
  },
  {
   "cell_type": "code",
   "execution_count": 4,
   "metadata": {},
   "outputs": [
    {
     "data": {
      "text/html": [
       "<div>\n",
       "<style scoped>\n",
       "    .dataframe tbody tr th:only-of-type {\n",
       "        vertical-align: middle;\n",
       "    }\n",
       "\n",
       "    .dataframe tbody tr th {\n",
       "        vertical-align: top;\n",
       "    }\n",
       "\n",
       "    .dataframe thead th {\n",
       "        text-align: right;\n",
       "    }\n",
       "</style>\n",
       "<table border=\"1\" class=\"dataframe\">\n",
       "  <thead>\n",
       "    <tr style=\"text-align: right;\">\n",
       "      <th></th>\n",
       "      <th>geometry.coordinates</th>\n",
       "      <th>properties.GEOID</th>\n",
       "    </tr>\n",
       "  </thead>\n",
       "  <tbody>\n",
       "    <tr>\n",
       "      <th>0</th>\n",
       "      <td>[[-85.6577, 31.8803], [-85.6488, 31.9116], [-8...</td>\n",
       "      <td>01005</td>\n",
       "    </tr>\n",
       "    <tr>\n",
       "      <th>1</th>\n",
       "      <td>[[-88.4732, 31.8939], [-88.4313, 32.2277], [-8...</td>\n",
       "      <td>01023</td>\n",
       "    </tr>\n",
       "    <tr>\n",
       "      <th>2</th>\n",
       "      <td>[[-86.9059, 31.753], [-86.9065, 31.6326], [-86...</td>\n",
       "      <td>01035</td>\n",
       "    </tr>\n",
       "    <tr>\n",
       "      <th>3</th>\n",
       "      <td>[[-86.375, 32.7536], [-86.0072, 32.755], [-85....</td>\n",
       "      <td>01051</td>\n",
       "    </tr>\n",
       "    <tr>\n",
       "      <th>4</th>\n",
       "      <td>[[-87.7157, 33.0068], [-87.4219, 33.0034], [-8...</td>\n",
       "      <td>01065</td>\n",
       "    </tr>\n",
       "  </tbody>\n",
       "</table>\n",
       "</div>"
      ],
      "text/plain": [
       "                                geometry.coordinates properties.GEOID\n",
       "0  [[-85.6577, 31.8803], [-85.6488, 31.9116], [-8...            01005\n",
       "1  [[-88.4732, 31.8939], [-88.4313, 32.2277], [-8...            01023\n",
       "2  [[-86.9059, 31.753], [-86.9065, 31.6326], [-86...            01035\n",
       "3  [[-86.375, 32.7536], [-86.0072, 32.755], [-85....            01051\n",
       "4  [[-87.7157, 33.0068], [-87.4219, 33.0034], [-8...            01065"
      ]
     },
     "execution_count": 4,
     "metadata": {},
     "output_type": "execute_result"
    }
   ],
   "source": [
    "with open('county.geojson', 'r') as f:\n",
    "    geojson = json.load(f)\n",
    "geo = pd.json_normalize(geojson['features'])\n",
    "geo = geo.drop(geo[geo['geometry.coordinates'].map(len) > 1].index)\n",
    "geo.astype({'properties.GEOID': 'str'}).dtypes\n",
    "geo['geometry.coordinates'] = geo['geometry.coordinates'].apply(lambda x: x[0])\n",
    "geo['properties.GEOID'] = geo['properties.GEOID'].apply(lambda x: x if len(x) > 4 else '0'+x)\n",
    "geofeatures = ['geometry.coordinates', 'properties.GEOID']\n",
    "geo = geo.drop(columns=[x for x in geo.columns if x not in geofeatures])\n",
    "coord_list = geo['geometry.coordinates'].to_list()\n",
    "geo.head()"
   ]
  },
  {
   "cell_type": "code",
   "execution_count": 5,
   "metadata": {},
   "outputs": [
    {
     "name": "stdout",
     "output_type": "stream",
     "text": [
      "rows after merge 358571\n",
      "97.5056017229377\n"
     ]
    }
   ],
   "source": [
    "data['coords'] = [coord_list for _ in range(len(data))]\n",
    "data['polygon'] = data[['latitude_x', 'longitude_x', 'coords']].apply(loc_match, axis=1)\n",
    "data = data.dropna()\n",
    "data['polygon'] = [''.join(map(str, l)) for l in data['polygon']]\n",
    "geo['geometry.coordinates'] = [''.join(map(str, l)) for l in geo['geometry.coordinates']]\n",
    "data = pd.merge(data, geo, how='left', left_on='polygon', right_on='geometry.coordinates', suffixes=('_data', '_geo'))\n",
    "rows_after_merge = len(data)\n",
    "print(\"rows after merge %i\"%rows_after_merge)\n",
    "print(rows_after_merge/rows_before_merge*100)"
   ]
  },
  {
   "cell_type": "code",
   "execution_count": 6,
   "metadata": {},
   "outputs": [
    {
     "data": {
      "text/html": [
       "<div>\n",
       "<style scoped>\n",
       "    .dataframe tbody tr th:only-of-type {\n",
       "        vertical-align: middle;\n",
       "    }\n",
       "\n",
       "    .dataframe tbody tr th {\n",
       "        vertical-align: top;\n",
       "    }\n",
       "\n",
       "    .dataframe thead th {\n",
       "        text-align: right;\n",
       "    }\n",
       "</style>\n",
       "<table border=\"1\" class=\"dataframe\">\n",
       "  <thead>\n",
       "    <tr style=\"text-align: right;\">\n",
       "      <th></th>\n",
       "      <th>geoid</th>\n",
       "      <th>month</th>\n",
       "      <th>year</th>\n",
       "      <th>longitude</th>\n",
       "      <th>awnd</th>\n",
       "      <th>latitude</th>\n",
       "      <th>prcp</th>\n",
       "      <th>avg_temp</th>\n",
       "      <th>fire_size</th>\n",
       "    </tr>\n",
       "  </thead>\n",
       "  <tbody>\n",
       "    <tr>\n",
       "      <th>0</th>\n",
       "      <td>01001</td>\n",
       "      <td>01</td>\n",
       "      <td>2011</td>\n",
       "      <td>-86.526475</td>\n",
       "      <td>8.065464</td>\n",
       "      <td>32.429962</td>\n",
       "      <td>0.000000</td>\n",
       "      <td>13.836333</td>\n",
       "      <td>3.000000</td>\n",
       "    </tr>\n",
       "    <tr>\n",
       "      <th>1</th>\n",
       "      <td>01001</td>\n",
       "      <td>01</td>\n",
       "      <td>2012</td>\n",
       "      <td>-86.702610</td>\n",
       "      <td>7.930789</td>\n",
       "      <td>32.429285</td>\n",
       "      <td>0.046667</td>\n",
       "      <td>13.752779</td>\n",
       "      <td>0.750000</td>\n",
       "    </tr>\n",
       "    <tr>\n",
       "      <th>2</th>\n",
       "      <td>01001</td>\n",
       "      <td>01</td>\n",
       "      <td>2013</td>\n",
       "      <td>-86.818100</td>\n",
       "      <td>7.800357</td>\n",
       "      <td>32.392246</td>\n",
       "      <td>0.000000</td>\n",
       "      <td>13.670974</td>\n",
       "      <td>0.100000</td>\n",
       "    </tr>\n",
       "    <tr>\n",
       "      <th>3</th>\n",
       "      <td>01001</td>\n",
       "      <td>01</td>\n",
       "      <td>2014</td>\n",
       "      <td>-86.603375</td>\n",
       "      <td>7.654442</td>\n",
       "      <td>32.529284</td>\n",
       "      <td>0.000000</td>\n",
       "      <td>13.939294</td>\n",
       "      <td>7.977778</td>\n",
       "    </tr>\n",
       "    <tr>\n",
       "      <th>4</th>\n",
       "      <td>01001</td>\n",
       "      <td>01</td>\n",
       "      <td>2015</td>\n",
       "      <td>-86.616028</td>\n",
       "      <td>7.514260</td>\n",
       "      <td>32.547684</td>\n",
       "      <td>0.000000</td>\n",
       "      <td>12.678677</td>\n",
       "      <td>2.060000</td>\n",
       "    </tr>\n",
       "  </tbody>\n",
       "</table>\n",
       "</div>"
      ],
      "text/plain": [
       "   geoid month  year  longitude      awnd   latitude      prcp   avg_temp  \\\n",
       "0  01001    01  2011 -86.526475  8.065464  32.429962  0.000000  13.836333   \n",
       "1  01001    01  2012 -86.702610  7.930789  32.429285  0.046667  13.752779   \n",
       "2  01001    01  2013 -86.818100  7.800357  32.392246  0.000000  13.670974   \n",
       "3  01001    01  2014 -86.603375  7.654442  32.529284  0.000000  13.939294   \n",
       "4  01001    01  2015 -86.616028  7.514260  32.547684  0.000000  12.678677   \n",
       "\n",
       "   fire_size  \n",
       "0   3.000000  \n",
       "1   0.750000  \n",
       "2   0.100000  \n",
       "3   7.977778  \n",
       "4   2.060000  "
      ]
     },
     "execution_count": 6,
     "metadata": {},
     "output_type": "execute_result"
    }
   ],
   "source": [
    "features += ['properties.GEOID']\n",
    "features = list(set(features))\n",
    "data = data[features]\n",
    "data.to_csv('checkpoint.csv')\n",
    "data['month'] = data['datetime'].apply(lambda x: int(x.split('-')[1]))\n",
    "data['year'] = data['datetime'].apply(lambda x: int(x.split('-')[0]))\n",
    "data = data.groupby(['properties.GEOID', 'month', 'year'], dropna=False).mean().reset_index().rename(columns={'properties.GEOID':'geoid','latitude_x':'latitude','longitude_x':'longitude'})\n",
    "data.head()"
   ]
  },
  {
   "cell_type": "code",
   "execution_count": 31,
   "metadata": {},
   "outputs": [
    {
     "name": "stdout",
     "output_type": "stream",
     "text": [
      "358571\n",
      "67463\n"
     ]
    }
   ],
   "source": [
    "data = pd.read_csv('checkpoint.csv', index_col=[0], dtype={'properties.GEOID':'string'}).fillna(0)\n",
    "print(len(data))\n",
    "data['month'] = data['datetime'].apply(lambda x: int(x.split('-')[1]))\n",
    "data['year'] = data['datetime'].apply(lambda x: int(x.split('-')[0]))\n",
    "data = data.groupby(['properties.GEOID', 'month', 'year'], dropna=False).mean().reset_index().rename(columns={'properties.GEOID':'geoid','latitude_x':'latitude','longitude_x':'longitude'})\n",
    "print(len(data))\n",
    "# for year in range(data['year'].min(), data['year'].max()+1):\n",
    "#     for month in range(1,13):\n",
    "#         data.loc[(data['year']==year) & (data['month']==month)].to_csv('data/%i_%i_firesize_by_county.csv'%(year, month), index=False)"
   ]
  }
 ],
 "metadata": {
  "interpreter": {
   "hash": "6d444edf6b70de7c83acd27097ef2156bd1a2662f05a7b16324727da87e72ce3"
  },
  "kernelspec": {
   "display_name": "Python 3.8.12 ('cmpt733')",
   "language": "python",
   "name": "python3"
  },
  "language_info": {
   "codemirror_mode": {
    "name": "ipython",
    "version": 3
   },
   "file_extension": ".py",
   "mimetype": "text/x-python",
   "name": "python",
   "nbconvert_exporter": "python",
   "pygments_lexer": "ipython3",
   "version": "3.8.12"
  },
  "orig_nbformat": 4
 },
 "nbformat": 4,
 "nbformat_minor": 2
}
