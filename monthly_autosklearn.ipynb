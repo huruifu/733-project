{
  "cells": [
    {
      "cell_type": "code",
      "execution_count": null,
      "metadata": {
        "id": "_edl4hiHpb4R"
      },
      "outputs": [],
      "source": [
        "#This notebook should run on Google Colab\n",
        "#Run this section on Colab, and then restart runtime\n",
        "!sudo apt-get install build-essential swig \n",
        "!pip install auto-sklearn==0.11.1"
      ]
    },
    {
      "cell_type": "code",
      "execution_count": null,
      "metadata": {
        "id": "WrfsQ2fJomOr"
      },
      "outputs": [],
      "source": [
        "import pandas as pd\n",
        "import os\n",
        "from sklearn.preprocessing import OneHotEncoder\n",
        "import numpy as np"
      ]
    },
    {
      "cell_type": "markdown",
      "metadata": {
        "id": "JUU9QemAomOt"
      },
      "source": [
        "## frequency of monthly wildfire by states ##"
      ]
    },
    {
      "cell_type": "code",
      "execution_count": null,
      "metadata": {
        "colab": {
          "base_uri": "https://localhost:8080/"
        },
        "id": "kwZLOgyUpFG0",
        "outputId": "1fc02f5b-4b75-4424-e800-d311db91a02b"
      },
      "outputs": [],
      "source": [
        "#The needed csv should be in google drive\n",
        "from google.colab import drive\n",
        "drive.mount('/content/drive')"
      ]
    },
    {
      "cell_type": "code",
      "execution_count": null,
      "metadata": {
        "colab": {
          "base_uri": "https://localhost:8080/",
          "height": 678
        },
        "id": "pOMySh0gomOv",
        "outputId": "450dd2af-94a8-4085-892c-efbe786ca7a4"
      },
      "outputs": [],
      "source": [
        "df = pd.read_csv('/content/drive/MyDrive/Colab Notebooks/733project/etl_filtered_v1.csv')\n",
        "df['month'] = pd.DatetimeIndex(df['datetime']).month\n",
        "df"
      ]
    },
    {
      "cell_type": "code",
      "execution_count": null,
      "metadata": {
        "colab": {
          "base_uri": "https://localhost:8080/"
        },
        "id": "ZRSlV99ComOy",
        "outputId": "542d86ad-5135-43cf-8971-e0a0f1dfda01"
      },
      "outputs": [],
      "source": [
        "df.columns"
      ]
    },
    {
      "cell_type": "code",
      "execution_count": null,
      "metadata": {
        "colab": {
          "base_uri": "https://localhost:8080/",
          "height": 468
        },
        "id": "qxuTl9uoomOz",
        "outputId": "2c4983cf-ca44-4fbd-c9ab-35fa3083c683"
      },
      "outputs": [],
      "source": [
        "mean_pd = df[df['population_density']>=0].groupby('STATE')['population_density'].mean().reset_index()\n",
        "ml_df = df[['month', 'STATE', 'TMAX', 'TMIN', 'AWND']]\n",
        "ml_df = ml_df.groupby(['month', 'STATE']).agg({'month' : ['count'], 'TMAX' : 'mean', 'TMIN' : 'mean', 'AWND' : 'mean'}).reset_index()\n",
        "ml_df.columns = [' '.join(col).strip() for col in ml_df.columns.values]\n",
        "merged = ml_df.merge(mean_pd, how='inner', left_on='STATE', right_on='STATE')\n",
        "encoding = pd.get_dummies(merged.STATE)\n",
        "merged = merged.join(encoding)\n",
        "merged"
      ]
    },
    {
      "cell_type": "code",
      "execution_count": null,
      "metadata": {
        "id": "drxlYpdZpzEd"
      },
      "outputs": [],
      "source": [
        "import autosklearn.regression \n",
        "from sklearn.model_selection import train_test_split"
      ]
    },
    {
      "cell_type": "code",
      "execution_count": null,
      "metadata": {
        "colab": {
          "base_uri": "https://localhost:8080/"
        },
        "id": "F0H5q-Rlr14P",
        "outputId": "2be380a7-7ee4-4b44-d308-2a91e0754725"
      },
      "outputs": [],
      "source": [
        "y = merged['month count'].to_frame()\n",
        "X = merged.drop(['month count', 'STATE'], axis=1)\n",
        "X_train, X_test, y_train, y_test = train_test_split(X, y, test_size=0.2, random_state=42)\n",
        "automl = autosklearn.regression.AutoSklearnRegressor(\n",
        "    time_left_for_this_task=120,\n",
        "    per_run_time_limit=30,\n",
        "    tmp_folder='/content/tmp'\n",
        ")\n",
        "automl.fit(X_train, y_train)"
      ]
    },
    {
      "cell_type": "code",
      "execution_count": null,
      "metadata": {
        "colab": {
          "base_uri": "https://localhost:8080/"
        },
        "id": "ZrhYtjJ-tNld",
        "outputId": "d0e0c84a-04cd-48d1-e6c7-37a58cbef7f7"
      },
      "outputs": [],
      "source": [
        "import sklearn\n",
        "train_predictions = automl.predict(X_train)\n",
        "print(\"Training R2 score:\", sklearn.metrics.r2_score(y_train, train_predictions))\n",
        "train_predictions = automl.predict(X_test)\n",
        "print(\"Testing R2 score:\", sklearn.metrics.r2_score(y_test, train_predictions))"
      ]
    },
    {
      "cell_type": "code",
      "execution_count": null,
      "metadata": {
        "colab": {
          "base_uri": "https://localhost:8080/",
          "height": 141
        },
        "id": "rDwZaoXY8931",
        "outputId": "bf1d8c1a-60b5-4f9a-fcab-0477acf68364"
      },
      "outputs": [],
      "source": [
        "automl.show_models()"
      ]
    },
    {
      "cell_type": "code",
      "execution_count": null,
      "metadata": {
        "id": "nPr7IgXTXE9R"
      },
      "outputs": [],
      "source": [
        "#predict\n",
        "from sklearn.linear_model import LinearRegression\n",
        "temp = df[['FIRE_YEAR', 'month', 'STATE', 'AWND', 'TMAX', 'TMIN']]\n",
        "AWND_predict = temp.groupby(['FIRE_YEAR', 'month', 'STATE']).agg({'AWND' : 'mean'}).reset_index()\n",
        "encoding = pd.get_dummies(AWND_predict.STATE)\n",
        "AWND_predict = AWND_predict.join(encoding)\n",
        "y = AWND_predict['AWND']\n",
        "x = AWND_predict.drop(['STATE', 'AWND'], axis=1)\n",
        "AWND_model = LinearRegression().fit(x, y)"
      ]
    },
    {
      "cell_type": "code",
      "execution_count": null,
      "metadata": {
        "id": "jfOiy0ZTXMF3"
      },
      "outputs": [],
      "source": [
        "TMAX_predict = temp.groupby(['FIRE_YEAR', 'month', 'STATE']).agg({'TMAX' : 'mean'}).reset_index()\n",
        "encoding = pd.get_dummies(TMAX_predict.STATE)\n",
        "TMAX_predict = TMAX_predict.join(encoding)\n",
        "y = TMAX_predict['TMAX']\n",
        "x = TMAX_predict.drop(['STATE', 'TMAX'], axis=1)\n",
        "TMAX_model = LinearRegression().fit(x, y)"
      ]
    },
    {
      "cell_type": "code",
      "execution_count": null,
      "metadata": {
        "id": "G0OfjkdaXMyc"
      },
      "outputs": [],
      "source": [
        "TMIN_predict = temp.groupby(['FIRE_YEAR', 'month', 'STATE']).agg({'TMIN' : 'mean'}).reset_index()\n",
        "encoding = pd.get_dummies(TMIN_predict.STATE)\n",
        "TMIN_predict = TMIN_predict.join(encoding)\n",
        "y = TMIN_predict['TMIN']\n",
        "x = TMIN_predict.drop(['STATE', 'TMIN'], axis=1)\n",
        "TMIN_model = LinearRegression().fit(x, y)"
      ]
    },
    {
      "cell_type": "code",
      "execution_count": null,
      "metadata": {
        "colab": {
          "base_uri": "https://localhost:8080/",
          "height": 423
        },
        "id": "25iNCHQRXPre",
        "outputId": "a6016891-d474-41be-8299-a5ab0597e893"
      },
      "outputs": [],
      "source": [
        "states = set(df['STATE'].to_list())\n",
        "states = list(states)\n",
        "states.sort()\n",
        "year = [2022]\n",
        "months = list(range(1,13))\n",
        "year_df = pd.DataFrame(year, columns=['FIRE_YEAR'])\n",
        "month_df = pd.DataFrame(months, columns=['month_'])\n",
        "State_df = pd.DataFrame(states, columns=['STATE'])\n",
        "raw = year_df.merge(month_df, how='cross')\n",
        "raw = raw.merge(State_df, how='cross')\n",
        "\n",
        "encoding = pd.get_dummies(raw.STATE)\n",
        "input_df = raw.join(encoding)\n",
        "input_df = input_df.drop(['STATE'], axis=1)\n",
        "input_df"
      ]
    },
    {
      "cell_type": "code",
      "execution_count": null,
      "metadata": {
        "colab": {
          "base_uri": "https://localhost:8080/",
          "height": 423
        },
        "id": "kMdx1VCQXYc_",
        "outputId": "74c7e5e9-9814-4712-f5a5-f2da5e3300ce"
      },
      "outputs": [],
      "source": [
        "raw"
      ]
    },
    {
      "cell_type": "code",
      "execution_count": null,
      "metadata": {
        "id": "PmYbO-14XcGn"
      },
      "outputs": [],
      "source": [
        "AWND_2022 = AWND_model.predict(input_df)\n",
        "TMIN_2022 = TMIN_model.predict(input_df)\n",
        "TMAX_2022 = TMAX_model.predict(input_df)"
      ]
    },
    {
      "cell_type": "code",
      "execution_count": null,
      "metadata": {
        "colab": {
          "base_uri": "https://localhost:8080/",
          "height": 423
        },
        "id": "0ki-fBXXXdhI",
        "outputId": "1be024cd-a257-4d01-cb21-845ecd919c17"
      },
      "outputs": [],
      "source": [
        "raw['TMAX_mean'] = TMAX_2022\n",
        "raw['TMIN_mean'] = TMIN_2022\n",
        "raw['AWND_mean'] = AWND_2022\n",
        "mean_pd = df[df['population_density']>=0].groupby('STATE')['population_density'].mean().reset_index()\n",
        "raw = raw.merge(mean_pd, how='inner', on='STATE')\n",
        "raw.join(pd.get_dummies(raw.STATE))\n",
        "input_2022 = raw.join(pd.get_dummies(raw.STATE))\n",
        "input_2022\n",
        "input_2022 = input_2022.drop(['STATE', 'FIRE_YEAR'], axis=1)\n",
        "input_2022"
      ]
    },
    {
      "cell_type": "code",
      "execution_count": null,
      "metadata": {
        "id": "PoBx6lGpXisN"
      },
      "outputs": [],
      "source": [
        "frequency_2022 = automl.predict(input_2022)\n",
        "raw['frequency'] = frequency_2022\n",
        "raw['frequency'] = raw['frequency'].apply(lambda x: int(x) if x>=0 else 0)\n",
        "raw[['FIRE_YEAR', 'month_', 'STATE', 'frequency']].to_csv('frequency_2022.csv')"
      ]
    }
  ],
  "metadata": {
    "colab": {
      "name": "monthly.ipynb",
      "provenance": []
    },
    "interpreter": {
      "hash": "327c4c927c0a7780e1ae78d96b30f9ea264d12459481e9470f9887f27ce182dd"
    },
    "kernelspec": {
      "display_name": "Python 3.8.12 ('cmpt733')",
      "language": "python",
      "name": "python3"
    },
    "language_info": {
      "codemirror_mode": {
        "name": "ipython",
        "version": 3
      },
      "file_extension": ".py",
      "mimetype": "text/x-python",
      "name": "python",
      "nbconvert_exporter": "python",
      "pygments_lexer": "ipython3",
      "version": "3.8.12"
    },
    "orig_nbformat": 4
  },
  "nbformat": 4,
  "nbformat_minor": 0
}
