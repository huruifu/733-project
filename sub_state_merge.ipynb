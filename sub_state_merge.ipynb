{
  "nbformat": 4,
  "nbformat_minor": 0,
  "metadata": {
    "colab": {
      "name": "sub-state merge.ipynb",
      "provenance": [],
      "collapsed_sections": []
    },
    "kernelspec": {
      "name": "python3",
      "display_name": "Python 3"
    },
    "language_info": {
      "name": "python"
    }
  },
  "cells": [
    {
      "cell_type": "code",
      "execution_count": 1,
      "metadata": {
        "id": "4v476LrX_CWE"
      },
      "outputs": [],
      "source": [
        "import pandas as pd\n",
        "import numpy as np\n",
        "import sqlite3\n",
        "import matplotlib.pyplot as plt\n",
        "from numpy import arange\n",
        "import seaborn as sns"
      ]
    },
    {
      "cell_type": "code",
      "source": [
        "import os\n",
        "import glob\n",
        "# tmp_list=[\"NH\",\"ND\",\"NE\",\"NJ\",\"NV\",\"NC\",\"OK\",\"OH\",\"NM\",\"NY\",\"VA\"]\n",
        "# tmp_list=[\"OK\"]\n",
        "# for tmp in tmp_list:\n",
        "\n",
        "\n",
        "# path=f'./drive/MyDrive/733_project/weather_merged/{tmp}'\n",
        "path='./drive/MyDrive/733_project'\n",
        "\n",
        "extension='csv'\n",
        "all_filenames=[i for i in glob.glob(path+\"/*.csv\")]\n",
        "print(all_filenames)\n",
        "combined_csv = pd.concat([pd.read_csv(f) for f in all_filenames])\n",
        "combined_csv.to_csv(\"./drive/MyDrive/733_project/weather_merged/total.csv\", index=False)\n",
        "\n",
        "\n",
        "\n",
        "\n"
      ],
      "metadata": {
        "id": "U9qQi8Z6XdUD",
        "colab": {
          "base_uri": "https://localhost:8080/"
        },
        "outputId": "54bf7766-2da0-4178-d987-1943aab36936"
      },
      "execution_count": 6,
      "outputs": [
        {
          "output_type": "stream",
          "name": "stdout",
          "text": [
            "['./drive/MyDrive/733_project/AL.csv', './drive/MyDrive/733_project/AR.csv', './drive/MyDrive/733_project/CT.csv', './drive/MyDrive/733_project/DC.csv', './drive/MyDrive/733_project/DE.csv', './drive/MyDrive/733_project/MS.csv', './drive/MyDrive/733_project/HI.csv', './drive/MyDrive/733_project/IA.csv', './drive/MyDrive/733_project/ID.csv', './drive/MyDrive/733_project/IL.csv', './drive/MyDrive/733_project/IN.csv', './drive/MyDrive/733_project/KY.csv', './drive/MyDrive/733_project/LA.csv', './drive/MyDrive/733_project/MA.csv', './drive/MyDrive/733_project/MD.csv', './drive/MyDrive/733_project/ME.csv', './drive/MyDrive/733_project/MI.csv', './drive/MyDrive/733_project/MN.csv', './drive/MyDrive/733_project/MO.csv', './drive/MyDrive/733_project/PA.csv', './drive/MyDrive/733_project/RI.csv', './drive/MyDrive/733_project/SC.csv', './drive/MyDrive/733_project/SD.csv', './drive/MyDrive/733_project/TN.csv', './drive/MyDrive/733_project/UT.csv', './drive/MyDrive/733_project/VT.csv', './drive/MyDrive/733_project/WI.csv', './drive/MyDrive/733_project/WV.csv', './drive/MyDrive/733_project/WY.csv', './drive/MyDrive/733_project/AK.csv', './drive/MyDrive/733_project/KS.csv', './drive/MyDrive/733_project/WA.csv', './drive/MyDrive/733_project/AZ_1.csv', './drive/MyDrive/733_project/AZ_2.csv', './drive/MyDrive/733_project/CA_1.csv', './drive/MyDrive/733_project/CA_2.csv', './drive/MyDrive/733_project/CA_3.csv', './drive/MyDrive/733_project/CA_4.csv', './drive/MyDrive/733_project/CA_5.csv', './drive/MyDrive/733_project/CA_6.csv', './drive/MyDrive/733_project/CA_7.csv', './drive/MyDrive/733_project/CA_8.csv', './drive/MyDrive/733_project/CA_9.csv', './drive/MyDrive/733_project/CO_1.csv', './drive/MyDrive/733_project/CO_2.csv', './drive/MyDrive/733_project/FL_1.csv', './drive/MyDrive/733_project/FL_2.csv', './drive/MyDrive/733_project/OR_1.csv', './drive/MyDrive/733_project/OR_2.csv', './drive/MyDrive/733_project/TX_1.csv', './drive/MyDrive/733_project/TX_2.csv', './drive/MyDrive/733_project/TX_3.csv', './drive/MyDrive/733_project/TX_4.csv', './drive/MyDrive/733_project/TX_5.csv', './drive/MyDrive/733_project/TX_6.csv', './drive/MyDrive/733_project/TX_7.csv', './drive/MyDrive/733_project/TX_8.csv', './drive/MyDrive/733_project/TX_9.csv', './drive/MyDrive/733_project/TX_10.csv', './drive/MyDrive/733_project/TX_11.csv', './drive/MyDrive/733_project/TX_12.csv', './drive/MyDrive/733_project/TX_13.csv', './drive/MyDrive/733_project/TX_14.csv', './drive/MyDrive/733_project/TX_15.csv', './drive/MyDrive/733_project/TX_16.csv', './drive/MyDrive/733_project/TX_17.csv', './drive/MyDrive/733_project/TX_18.csv', './drive/MyDrive/733_project/GA_1.csv', './drive/MyDrive/733_project/GA_2.csv', './drive/MyDrive/733_project/GA_3.csv', './drive/MyDrive/733_project/MT.csv', './drive/MyDrive/733_project/NE.csv', './drive/MyDrive/733_project/ND.csv', './drive/MyDrive/733_project/NJ.csv', './drive/MyDrive/733_project/NV.csv', './drive/MyDrive/733_project/NC_1.csv', './drive/MyDrive/733_project/NC_2.csv', './drive/MyDrive/733_project/NC_3.csv', './drive/MyDrive/733_project/NH.csv', './drive/MyDrive/733_project/NM.csv', './drive/MyDrive/733_project/OH.csv', './drive/MyDrive/733_project/NY_1.csv', './drive/MyDrive/733_project/NY_2.csv', './drive/MyDrive/733_project/NY_3.csv', './drive/MyDrive/733_project/OK.csv', './drive/MyDrive/733_project/VA.csv']\n"
          ]
        }
      ]
    },
    {
      "cell_type": "code",
      "source": [
        "total=pd.read_csv(\"./drive/MyDrive/733_project/weather_merged/total.csv\")\n",
        "parameters = ['FIRE_YEAR','DISCOVERY_DOY', 'STAT_CAUSE_DESCR',  'STAT_CAUSE_CODE', 'CONT_DATE','DISCOVERY_DATE','CONT_DOY', 'DISCOVERY_TIME',\n",
        "       'CONT_TIME', 'FIRE_SIZE', 'FIRE_SIZE_CLASS', 'LATITUDE_x',\n",
        "       'LONGITUDE_x', 'OWNER_CODE', 'OWNER_DESCR', 'STATE', 'datetime','population_density', \n",
        "       'ELEVATION', 'AWND','PRCP','SNOW','SNWD','TMAX','TMIN','TOBS','distance']\n",
        "total=total[parameters]\n",
        "total.to_csv(\"./drive/MyDrive/733_project/weather_merged/etl_filtered.csv\")"
      ],
      "metadata": {
        "colab": {
          "base_uri": "https://localhost:8080/"
        },
        "id": "DPtNczWKD7bw",
        "outputId": "b20dd951-c1b7-4afa-de75-3666992c6557"
      },
      "execution_count": 15,
      "outputs": [
        {
          "output_type": "stream",
          "name": "stderr",
          "text": [
            "/usr/local/lib/python3.7/dist-packages/IPython/core/interactiveshell.py:2882: DtypeWarning: Columns (10) have mixed types.Specify dtype option on import or set low_memory=False.\n",
            "  exec(code_obj, self.user_global_ns, self.user_ns)\n"
          ]
        }
      ]
    },
    {
      "cell_type": "code",
      "source": [
        "import pandas as pd\n",
        "# merge_1 = pd.read_csv(\"./drive/MyDrive/733_project/weather_merged/merged_1.csv\")\n",
        "# merge_1 = merge_1[[\"LATITUDE\",\"LONGITUDE\",\"ELEVATION\",\"DATE\",\"AWND\",\"PRCP\",\"SNOW\",\"SNWD\",\"TMAX\",\"TMIN\",\"TOBS\"]]\n",
        "# merge_2 = pd.read_csv(\"./drive/MyDrive/733_project/weather_merged/merged_2.csv\")\n",
        "# merge_2 = merge_2[[\"LATITUDE\",\"LONGITUDE\",\"ELEVATION\",\"DATE\",\"AWND\",\"PRCP\",\"SNOW\",\"SNWD\",\"TMAX\",\"TMIN\",\"TOBS\"]]\n",
        "# merge_3 = pd.read_csv(\"./drive/MyDrive/733_project/weather_merged/merged_3.csv\")\n",
        "# merge_3 = merge_3[[\"LATITUDE\",\"LONGITUDE\",\"ELEVATION\",\"DATE\",\"AWND\",\"PRCP\",\"SNOW\",\"SNWD\",\"TMAX\",\"TMIN\",\"TOBS\"]]\n",
        "# merge_4 = pd.read_csv(\"./drive/MyDrive/733_project/weather_merged/merged_4.csv\")\n",
        "# merge_4 = merge_4[[\"LATITUDE\",\"LONGITUDE\",\"ELEVATION\",\"DATE\",\"AWND\",\"PRCP\",\"SNOW\",\"SNWD\",\"TMAX\",\"TMIN\",\"TOBS\"]]\n",
        "# merge_5 = pd.read_csv(\"./drive/MyDrive/733_project/weather_merged/merged_5.csv\")\n",
        "# merge_5 = merge_5[[\"LATITUDE\",\"LONGITUDE\",\"ELEVATION\",\"DATE\",\"AWND\",\"PRCP\",\"SNOW\",\"SNWD\",\"TMAX\",\"TMIN\",\"TOBS\"]]\n",
        "# merge_6 = pd.read_csv(\"./drive/MyDrive/733_project/weather_merged/merged_6.csv\")\n",
        "# merge_6 = merge_6[[\"LATITUDE\",\"LONGITUDE\",\"ELEVATION\",\"DATE\",\"AWND\",\"PRCP\",\"SNOW\",\"SNWD\",\"TMAX\",\"TMIN\",\"TOBS\"]]\n",
        "# print(combined_csv.head())\n",
        "# merge_7 = pd.read_csv(\"./drive/MyDrive/733_project/weather_merged/merged_7.csv\")\n",
        "# merge_7 = merge_7[[\"LATITUDE\",\"LONGITUDE\",\"ELEVATION\",\"DATE\",\"AWND\",\"PRCP\",\"SNOW\",\"SNWD\",\"TMAX\",\"TMIN\",\"TOBS\"]]\n",
        "# merge_8 = pd.read_csv(\"./drive/MyDrive/733_project/weather_merged/merged_8.csv\")\n",
        "# merge_8 = merge_8[[\"LATITUDE\",\"LONGITUDE\",\"ELEVATION\",\"DATE\",\"AWND\",\"PRCP\",\"SNOW\",\"SNWD\",\"TMAX\",\"TMIN\",\"TOBS\"]]\n",
        "# merge_8.to_csv(f\"./drive/MyDrive/733_project/weather_merged/merge_8.csv\", index=False)\n",
        "# import os\n",
        "# import glob\n",
        "# path='./drive/MyDrive/733_project/weather_merged'\n",
        "\n",
        "# extension='csv'\n",
        "# all_filenames=[i for i in glob.glob(path+\"/*.csv\")]\n",
        "# print(all_filenames)\n",
        "# combined_csv = pd.concat([pd.read_csv(f) for f in all_filenames[4:8]])\n",
        "# combined_csv.to_csv(f\"./drive/MyDrive/733_project/weather_merged/merged2.csv\", index=False)\n",
        "# all = [merged_1, merge_2,merge_3,merge_4,merge_5,merge_6,merge_7,merge_8]\n",
        "# merge_all  = pd.concat(all, ignore_index=True)\n"
      ],
      "metadata": {
        "colab": {
          "base_uri": "https://localhost:8080/"
        },
        "id": "GYLlbsTq6Eiy",
        "outputId": "49f1ba2e-1915-4d96-dc21-c490a886c275"
      },
      "execution_count": null,
      "outputs": [
        {
          "output_type": "stream",
          "name": "stdout",
          "text": [
            "['./drive/MyDrive/733_project/weather_merged/merge_1.csv', './drive/MyDrive/733_project/weather_merged/merge_2.csv', './drive/MyDrive/733_project/weather_merged/merge_3.csv', './drive/MyDrive/733_project/weather_merged/merge_4.csv', './drive/MyDrive/733_project/weather_merged/merge_5.csv', './drive/MyDrive/733_project/weather_merged/merge_6.csv', './drive/MyDrive/733_project/weather_merged/merge_7.csv', './drive/MyDrive/733_project/weather_merged/merge_8.csv', './drive/MyDrive/733_project/weather_merged/merged1.csv']\n"
          ]
        }
      ]
    },
    {
      "cell_type": "code",
      "source": [
        ""
      ],
      "metadata": {
        "id": "7_HyVExONYdA"
      },
      "execution_count": null,
      "outputs": []
    }
  ]
}